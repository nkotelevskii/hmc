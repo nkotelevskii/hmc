{
 "cells": [
  {
   "cell_type": "code",
   "execution_count": 1,
   "metadata": {},
   "outputs": [],
   "source": [
    "import os\n",
    "import torch\n",
    "import matplotlib.pyplot as plt\n",
    "import sys\n",
    "from tqdm import tqdm\n",
    "sys.path.insert(0, './src')\n",
    "%matplotlib inline\n",
    "\n",
    "\n",
    "from metrics import NDCG_binary_at_k_batch, Recall_at_k_batch\n",
    "from models import MultiVAE, MultiDAE, Multi_our_VAE, MultiHoffmanVAE, Multi_ourHoffman_VAE\n",
    "from training import train_model\n",
    "from data import Dataset\n",
    "from args import get_args\n",
    "import numpy as np\n",
    "import pandas as pd\n",
    "\n",
    "import pdb\n",
    "\n",
    "from sklearn.decomposition import PCA\n",
    "from sklearn.manifold import TSNE\n",
    "import ncvis\n",
    "import re\n",
    "import gc\n",
    "\n",
    "device = 'cuda:1'\n",
    "\n",
    "class dotdict(dict):\n",
    "    \"\"\"dot.notation access to dictionary attributes\"\"\"\n",
    "    __getattr__ = dict.get\n",
    "    __setattr__ = dict.__setitem__\n",
    "    __delattr__ = dict.__delitem__"
   ]
  },
  {
   "cell_type": "code",
   "execution_count": null,
   "metadata": {},
   "outputs": [],
   "source": [
    "args = dotdict({})\n",
    "args.train_batch_size = 500\n",
    "args.val_batch_size = 10\n",
    "args.n_val_samples = 100\n",
    "args.device = device\n",
    "\n",
    "args.learning_rate = 1e-4\n",
    "args.n_epoches = 200\n",
    "args.l2_coeff = 0.01 / args.train_batch_size\n",
    "args.print_info_ = 1\n",
    "\n",
    "args.annealing = True\n",
    "\n",
    "if args.annealing:\n",
    "    args.total_anneal_steps = 200000\n",
    "    args.anneal_cap = 0.2\n",
    "else:\n",
    "    args.total_anneal_steps = 0\n",
    "    args.anneal_cap = 1.\n",
    "\n",
    "device_zero = torch.tensor(0., device=device, dtype=torch.float32)\n",
    "device_one = torch.tensor(1., device=device, dtype=torch.float32)\n",
    "std_normal = torch.distributions.Normal(loc=device_zero,\n",
    "                                    scale=device_one)"
   ]
  },
  {
   "cell_type": "code",
   "execution_count": null,
   "metadata": {},
   "outputs": [],
   "source": [
    "models = [model for model in sorted(os.listdir('./models')) if model.startswith('best') ]\n",
    "for m in models:\n",
    "    print('\\'' + m + '\\',' )"
   ]
  },
  {
   "cell_type": "code",
   "execution_count": null,
   "metadata": {
    "jupyter": {
     "source_hidden": true
    }
   },
   "outputs": [],
   "source": [
    "# models = [\n",
    "# 'best_model_MultiHoffmanVAE_K_1_N_1_learnreverse_False_anneal_False_lrdec_0.001_lrenc_None.pt',\n",
    "# 'best_model_MultiHoffmanVAE_K_1_N_1_learnreverse_False_anneal_True_lrdec_0.001_lrenc_None.pt',\n",
    "# 'best_model_MultiHoffmanVAE_K_2_N_2_learnreverse_False_anneal_False_lrdec_0.001_lrenc_None.pt',\n",
    "# 'best_model_MultiHoffmanVAE_K_2_N_2_learnreverse_False_anneal_True_lrdec_0.001_lrenc_None.pt',\n",
    "# 'best_model_MultiHoffmanVAE_K_3_N_3_learnreverse_False_anneal_False_lrdec_0.001_lrenc_None.pt',\n",
    "# 'best_model_MultiHoffmanVAE_K_3_N_3_learnreverse_False_anneal_True_lrdec_0.001_lrenc_None.pt',\n",
    "# 'best_model_MultiHoffmanVAE_K_5_N_5_learnreverse_False_anneal_False_lrdec_0.001_lrenc_None.pt',\n",
    "# 'best_model_MultiHoffmanVAE_K_5_N_5_learnreverse_False_anneal_True_lrdec_0.001_lrenc_None.pt',\n",
    "# 'best_model_MultiVAE_K_None_N_None_learnreverse_False_anneal_False_lrdec_0.001_lrenc_None.pt',\n",
    "# 'best_model_MultiVAE_K_None_N_None_learnreverse_False_anneal_True_lrdec_0.001_lrenc_None.pt',\n",
    "# 'best_model_MultiVAE_K_None_N_None_learnreverse_False_anneal_True_lrdec_3e-05_lrenc_0.001.pt',\n",
    "# 'best_model_Multi_ourHoffman_VAE_K_1_N_1_learnreverse_False_anneal_False_lrdec_0.001_lrenc_None.pt',\n",
    "# 'best_model_Multi_ourHoffman_VAE_K_1_N_1_learnreverse_False_anneal_True_lrdec_0.001_lrenc_None.pt',\n",
    "# 'best_model_Multi_ourHoffman_VAE_K_1_N_1_learnreverse_True_anneal_False_lrdec_0.001_lrenc_None.pt',\n",
    "# 'best_model_Multi_ourHoffman_VAE_K_1_N_1_learnreverse_True_anneal_True_lrdec_0.001_lrenc_None.pt',\n",
    "# 'best_model_Multi_ourHoffman_VAE_K_1_N_2_learnreverse_False_anneal_False_lrdec_0.001_lrenc_None.pt',\n",
    "# 'best_model_Multi_ourHoffman_VAE_K_1_N_2_learnreverse_False_anneal_True_lrdec_0.001_lrenc_None.pt',\n",
    "# 'best_model_Multi_ourHoffman_VAE_K_1_N_2_learnreverse_True_anneal_False_lrdec_0.001_lrenc_None.pt',\n",
    "# 'best_model_Multi_ourHoffman_VAE_K_1_N_2_learnreverse_True_anneal_True_lrdec_0.001_lrenc_None.pt',\n",
    "# 'best_model_Multi_ourHoffman_VAE_K_1_N_3_learnreverse_False_anneal_False_lrdec_0.001_lrenc_None.pt',\n",
    "# 'best_model_Multi_ourHoffman_VAE_K_1_N_3_learnreverse_False_anneal_True_lrdec_0.001_lrenc_None.pt',\n",
    "# 'best_model_Multi_ourHoffman_VAE_K_1_N_3_learnreverse_True_anneal_False_lrdec_0.001_lrenc_None.pt',\n",
    "# 'best_model_Multi_ourHoffman_VAE_K_1_N_3_learnreverse_True_anneal_True_lrdec_0.001_lrenc_None.pt',\n",
    "# 'best_model_Multi_ourHoffman_VAE_K_1_N_5_learnreverse_False_anneal_False_lrdec_0.001_lrenc_None.pt',\n",
    "# 'best_model_Multi_ourHoffman_VAE_K_1_N_5_learnreverse_False_anneal_True_lrdec_0.001_lrenc_None.pt',\n",
    "# 'best_model_Multi_ourHoffman_VAE_K_1_N_5_learnreverse_True_anneal_False_lrdec_0.001_lrenc_None.pt',\n",
    "# 'best_model_Multi_ourHoffman_VAE_K_1_N_5_learnreverse_True_anneal_True_lrdec_0.001_lrenc_None.pt',\n",
    "# 'best_model_Multi_ourHoffman_VAE_K_2_N_1_learnreverse_False_anneal_False_lrdec_0.001_lrenc_None.pt',\n",
    "# 'best_model_Multi_ourHoffman_VAE_K_2_N_1_learnreverse_False_anneal_True_lrdec_0.001_lrenc_None.pt',\n",
    "# 'best_model_Multi_ourHoffman_VAE_K_2_N_1_learnreverse_True_anneal_False_lrdec_0.001_lrenc_None.pt',\n",
    "# 'best_model_Multi_ourHoffman_VAE_K_2_N_1_learnreverse_True_anneal_True_lrdec_0.001_lrenc_None.pt',\n",
    "# 'best_model_Multi_ourHoffman_VAE_K_2_N_2_learnreverse_False_anneal_False_lrdec_0.001_lrenc_None.pt',\n",
    "# 'best_model_Multi_ourHoffman_VAE_K_2_N_2_learnreverse_False_anneal_True_lrdec_0.001_lrenc_None.pt',\n",
    "# 'best_model_Multi_ourHoffman_VAE_K_2_N_2_learnreverse_True_anneal_False_lrdec_0.001_lrenc_None.pt',\n",
    "# 'best_model_Multi_ourHoffman_VAE_K_2_N_2_learnreverse_True_anneal_True_lrdec_0.001_lrenc_None.pt',\n",
    "# 'best_model_Multi_ourHoffman_VAE_K_3_N_1_learnreverse_False_anneal_False_lrdec_0.001_lrenc_None.pt',\n",
    "# 'best_model_Multi_ourHoffman_VAE_K_3_N_1_learnreverse_False_anneal_True_lrdec_0.001_lrenc_None.pt',\n",
    "# 'best_model_Multi_ourHoffman_VAE_K_3_N_1_learnreverse_True_anneal_False_lrdec_0.001_lrenc_None.pt',\n",
    "# 'best_model_Multi_ourHoffman_VAE_K_3_N_1_learnreverse_True_anneal_True_lrdec_0.001_lrenc_None.pt',\n",
    "# 'best_model_Multi_ourHoffman_VAE_K_3_N_3_learnreverse_False_anneal_False_lrdec_0.001_lrenc_None.pt',\n",
    "# 'best_model_Multi_ourHoffman_VAE_K_3_N_3_learnreverse_False_anneal_True_lrdec_0.001_lrenc_None.pt',\n",
    "# 'best_model_Multi_ourHoffman_VAE_K_3_N_3_learnreverse_True_anneal_False_lrdec_0.001_lrenc_None.pt',\n",
    "# 'best_model_Multi_ourHoffman_VAE_K_3_N_3_learnreverse_True_anneal_True_lrdec_0.001_lrenc_None.pt',\n",
    "# 'best_model_Multi_ourHoffman_VAE_K_5_N_1_learnreverse_False_anneal_False_lrdec_0.001_lrenc_None.pt',\n",
    "# 'best_model_Multi_ourHoffman_VAE_K_5_N_1_learnreverse_False_anneal_True_lrdec_0.001_lrenc_None.pt',\n",
    "# 'best_model_Multi_ourHoffman_VAE_K_5_N_1_learnreverse_True_anneal_False_lrdec_0.001_lrenc_None.pt',\n",
    "# 'best_model_Multi_ourHoffman_VAE_K_5_N_1_learnreverse_True_anneal_True_lrdec_0.001_lrenc_None.pt',\n",
    "# 'best_model_Multi_ourHoffman_VAE_K_5_N_5_learnreverse_False_anneal_False_lrdec_0.001_lrenc_None.pt',\n",
    "# 'best_model_Multi_ourHoffman_VAE_K_5_N_5_learnreverse_False_anneal_True_lrdec_0.001_lrenc_None.pt',\n",
    "# 'best_model_Multi_ourHoffman_VAE_K_5_N_5_learnreverse_True_anneal_False_lrdec_0.001_lrenc_None.pt',\n",
    "# 'best_model_Multi_ourHoffman_VAE_K_5_N_5_learnreverse_True_anneal_True_lrdec_0.001_lrenc_None.pt',\n",
    "# 'best_model_Multi_our_VAE_K_1_N_1_learnreverse_False_anneal_False_lrdec_0.001_lrenc_None.pt',\n",
    "# 'best_model_Multi_our_VAE_K_1_N_1_learnreverse_False_anneal_True_lrdec_0.001_lrenc_None.pt',\n",
    "# 'best_model_Multi_our_VAE_K_1_N_1_learnreverse_True_anneal_False_lrdec_0.001_lrenc_None.pt',\n",
    "# 'best_model_Multi_our_VAE_K_1_N_1_learnreverse_True_anneal_True_lrdec_0.001_lrenc_None.pt',\n",
    "# 'best_model_Multi_our_VAE_K_1_N_2_learnreverse_False_anneal_False_lrdec_0.001_lrenc_None.pt',\n",
    "# 'best_model_Multi_our_VAE_K_1_N_2_learnreverse_False_anneal_True_lrdec_0.001_lrenc_None.pt',\n",
    "# 'best_model_Multi_our_VAE_K_1_N_2_learnreverse_True_anneal_False_lrdec_0.001_lrenc_None.pt',\n",
    "# 'best_model_Multi_our_VAE_K_1_N_2_learnreverse_True_anneal_True_lrdec_0.001_lrenc_None.pt',\n",
    "# 'best_model_Multi_our_VAE_K_1_N_3_learnreverse_False_anneal_False_lrdec_0.001_lrenc_None.pt',\n",
    "# 'best_model_Multi_our_VAE_K_1_N_3_learnreverse_False_anneal_True_lrdec_0.001_lrenc_None.pt',\n",
    "# 'best_model_Multi_our_VAE_K_1_N_3_learnreverse_True_anneal_False_lrdec_0.001_lrenc_None.pt',\n",
    "# 'best_model_Multi_our_VAE_K_1_N_3_learnreverse_True_anneal_True_lrdec_0.001_lrenc_None.pt',\n",
    "# 'best_model_Multi_our_VAE_K_1_N_5_learnreverse_False_anneal_False_lrdec_0.001_lrenc_None.pt',\n",
    "# 'best_model_Multi_our_VAE_K_1_N_5_learnreverse_False_anneal_True_lrdec_0.001_lrenc_None.pt',\n",
    "# 'best_model_Multi_our_VAE_K_1_N_5_learnreverse_True_anneal_False_lrdec_0.001_lrenc_None.pt',\n",
    "# 'best_model_Multi_our_VAE_K_1_N_5_learnreverse_True_anneal_True_lrdec_0.001_lrenc_None.pt',\n",
    "# 'best_model_Multi_our_VAE_K_2_N_1_learnreverse_False_anneal_False_lrdec_0.001_lrenc_None.pt',\n",
    "# 'best_model_Multi_our_VAE_K_2_N_1_learnreverse_False_anneal_True_lrdec_0.001_lrenc_None.pt',\n",
    "# 'best_model_Multi_our_VAE_K_2_N_1_learnreverse_True_anneal_False_lrdec_0.001_lrenc_None.pt',\n",
    "# 'best_model_Multi_our_VAE_K_2_N_1_learnreverse_True_anneal_True_lrdec_0.001_lrenc_None.pt',\n",
    "# 'best_model_Multi_our_VAE_K_2_N_2_learnreverse_False_anneal_False_lrdec_0.001_lrenc_None.pt',\n",
    "# 'best_model_Multi_our_VAE_K_2_N_2_learnreverse_False_anneal_True_lrdec_0.001_lrenc_None.pt',\n",
    "# 'best_model_Multi_our_VAE_K_2_N_2_learnreverse_True_anneal_False_lrdec_0.001_lrenc_None.pt',\n",
    "# 'best_model_Multi_our_VAE_K_2_N_2_learnreverse_True_anneal_True_lrdec_0.001_lrenc_None.pt',\n",
    "# 'best_model_Multi_our_VAE_K_3_N_1_learnreverse_False_anneal_False_lrdec_0.001_lrenc_None.pt',\n",
    "# 'best_model_Multi_our_VAE_K_3_N_1_learnreverse_False_anneal_True_lrdec_0.001_lrenc_None.pt',\n",
    "# 'best_model_Multi_our_VAE_K_3_N_1_learnreverse_True_anneal_False_lrdec_0.001_lrenc_None.pt',\n",
    "# 'best_model_Multi_our_VAE_K_3_N_1_learnreverse_True_anneal_True_lrdec_0.001_lrenc_None.pt',\n",
    "# 'best_model_Multi_our_VAE_K_3_N_3_learnreverse_False_anneal_False_lrdec_0.001_lrenc_None.pt',\n",
    "# 'best_model_Multi_our_VAE_K_3_N_3_learnreverse_False_anneal_True_lrdec_0.001_lrenc_None.pt',\n",
    "# 'best_model_Multi_our_VAE_K_3_N_3_learnreverse_True_anneal_False_lrdec_0.001_lrenc_None.pt',\n",
    "# 'best_model_Multi_our_VAE_K_3_N_3_learnreverse_True_anneal_True_lrdec_0.001_lrenc_None.pt',\n",
    "# 'best_model_Multi_our_VAE_K_5_N_1_learnreverse_False_anneal_False_lrdec_0.001_lrenc_None.pt',\n",
    "# 'best_model_Multi_our_VAE_K_5_N_1_learnreverse_False_anneal_True_lrdec_0.001_lrenc_None.pt',\n",
    "# 'best_model_Multi_our_VAE_K_5_N_1_learnreverse_True_anneal_False_lrdec_0.001_lrenc_None.pt',\n",
    "# 'best_model_Multi_our_VAE_K_5_N_1_learnreverse_True_anneal_True_lrdec_0.001_lrenc_None.pt',\n",
    "# 'best_model_Multi_our_VAE_K_5_N_1_learnreverse_True_anneal_True_lrdec_3e-05_lrenc_0.001.pt',\n",
    "# 'best_model_Multi_our_VAE_K_5_N_5_learnreverse_False_anneal_False_lrdec_0.001_lrenc_None.pt',\n",
    "# 'best_model_Multi_our_VAE_K_5_N_5_learnreverse_False_anneal_True_lrdec_0.001_lrenc_None.pt',\n",
    "# 'best_model_Multi_our_VAE_K_5_N_5_learnreverse_True_anneal_False_lrdec_0.001_lrenc_None.pt',\n",
    "# 'best_model_Multi_our_VAE_K_5_N_5_learnreverse_True_anneal_True_lrdec_0.001_lrenc_None.pt',\n",
    "# ]"
   ]
  },
  {
   "cell_type": "code",
   "execution_count": null,
   "metadata": {},
   "outputs": [],
   "source": [
    "def load_model(path, device):\n",
    "    device_zero = torch.tensor(0., device=device, dtype=torch.float32)\n",
    "    device_one = torch.tensor(1., device=device, dtype=torch.float32)\n",
    "    std_normal = torch.distributions.Normal(loc=device_zero,\n",
    "                                        scale=device_one)\n",
    "    uniform = torch.distributions.Uniform(low=device_zero, high=device_one)\n",
    "    torch_log_2 = torch.tensor(np.log(2), device=device, dtype=torch.float32)\n",
    "    \n",
    "    model = torch.load(path, map_location=device)\n",
    "    \n",
    "    model.eval()\n",
    "    model.std_normal = std_normal\n",
    "    if hasattr(model, 'torch_log_2'):\n",
    "        model.torch_log_2 = torch_log_2\n",
    "    if hasattr(model, 'transitions'):\n",
    "        model.transitions = model.transitions.to(device)\n",
    "        if type(model.transitions) == type(torch.nn.ModuleList([])):\n",
    "            for i in range(len(model.transitions)):\n",
    "                model.transitions[i].device = device\n",
    "                model.transitions[i].device_zero = device_zero\n",
    "                model.transitions[i].device_one = device_one\n",
    "        else:\n",
    "            model.transitions.device = device\n",
    "            model.transitions.device_zero = device_zero\n",
    "            model.transitions.device_one = device_one\n",
    "    if hasattr(model, 'reverse_kernel'):\n",
    "        model.reverse_kernel = model.reverse_kernel.to(device)\n",
    "        model.reverse_kernel.device = device\n",
    "        model.device_one = device_one\n",
    "        \n",
    "    return model"
   ]
  },
  {
   "cell_type": "code",
   "execution_count": null,
   "metadata": {},
   "outputs": [],
   "source": [
    "resulting_dict = {'model': [], 'data': [], 'K': [], 'N': [], 'anneal': [], 'learnreverse': [], 'learntransitions': [], 'initstepsize': [],  'data': [], 'recall_5': [], 'recall_10': [], 'recall_20': [], 'recall_50': [], 'recall_100': [], 'ndcg_5': [], 'ndcg_10': [], 'ndcg_20': [], 'ndcg_50': [], 'ndcg_100': []}"
   ]
  },
  {
   "cell_type": "code",
   "execution_count": 7,
   "metadata": {},
   "outputs": [],
   "source": [
    "# args.data = 'ml20m'\n",
    "# dataset = Dataset(args, data_dir='./data/')"
   ]
  },
  {
   "cell_type": "code",
   "execution_count": 8,
   "metadata": {},
   "outputs": [],
   "source": [
    "# './logs/metrics_ml20m_MultiVAE_K_None_N_None_learnreverse_False_anneal_True_lrdec_0.001_lrenc_None.txt',\n",
    "# './logs/metrics_ml20m_Multi_ourHoffman_VAE_K_3_N_1_learnreverse_True_anneal_True_lrdec_0.0003_lrenc_0.001_learntransitions_True_initstepsize_0.1.txt',\n",
    "# './logs/metrics_ml20m_Multi_ourHoffman_VAE_K_3_N_1_learnreverse_True_anneal_True_lrdec_0.0003_lrenc_0.001_learntransitions_False_initstepsize_0.005.txt',\n",
    "# './logs/metrics_ml20m_Multi_our_VAE_K_3_N_1_learnreverse_True_anneal_True_lrdec_0.0003_lrenc_0.001_learntransitions_True_initstepsize_0.1.txt',\n",
    "# './logs/metrics_ml20m_Multi_our_VAE_K_3_N_1_learnreverse_True_anneal_True_lrdec_0.0003_lrenc_0.001_learntransitions_False_initstepsize_0.005.txt',"
   ]
  },
  {
   "cell_type": "code",
   "execution_count": 9,
   "metadata": {},
   "outputs": [],
   "source": [
    "models_list = [\n",
    "#     [\n",
    "        './models/best_model_MultiVAE_data_ml20m_K_None_N_None_learnreverse_False_anneal_True_lrdec_0.001_lrenc_None_learntransitions_True_initstepsize_0.1.pt',\n",
    "    \n",
    "    \n",
    "#         './models/best_model_MultiVAE_data_ml20m_K_None_N_None_learnreverse_False_anneal_False_lrdec_0.001_lrenc_None_learntransitions_True_initstepsize_0.1.pt',\n",
    "#         './models/best_model_Multi_our_VAE_data_ml20m_K_2_N_1_learnreverse_False_anneal_False_lrdec_0.001_lrenc_0.001_learntransitions_False_initstepsize_0.01.pt',\n",
    "#         './models/best_model_Multi_our_VAE_data_ml20m_K_3_N_1_learnreverse_False_anneal_False_lrdec_0.001_lrenc_0.001_learntransitions_False_initstepsize_0.01.pt',\n",
    "#     ],\n",
    "    \n",
    "#     [\n",
    "#         './models/best_model_MultiVAE_data_foursquare_K_None_N_None_learnreverse_False_anneal_False_lrdec_0.001_lrenc_None_learntransitions_True_initstepsize_0.1.pt',\n",
    "#         './models/best_model_Multi_our_VAE_data_foursquare_K_2_N_1_learnreverse_False_anneal_False_lrdec_0.001_lrenc_0.001_learntransitions_False_initstepsize_0.01.pt',\n",
    "#         './models/best_model_Multi_our_VAE_data_foursquare_K_3_N_1_learnreverse_False_anneal_False_lrdec_0.001_lrenc_0.001_learntransitions_False_initstepsize_0.01.pt',\n",
    "#     ],\n",
    "    \n",
    "\n",
    "#     [\n",
    "#         './models/best_model_MultiVAE_data_gowalla_K_None_N_None_learnreverse_False_anneal_False_lrdec_0.001_lrenc_None_learntransitions_True_initstepsize_0.01.pt',\n",
    "#         './models/best_model_Multi_our_VAE_data_gowalla_K_2_N_1_learnreverse_False_anneal_False_lrdec_0.001_lrenc_0.001_learntransitions_False_initstepsize_0.01.pt',\n",
    "#         './models/best_model_Multi_our_VAE_data_gowalla_K_2_N_1_learnreverse_True_anneal_False_lrdec_0.001_lrenc_0.001_learntransitions_True_initstepsize_0.01.pt',\n",
    "#         './models/best_model_Multi_our_VAE_data_gowalla_K_3_N_1_learnreverse_True_anneal_False_lrdec_0.001_lrenc_0.001_learntransitions_True_initstepsize_0.01.pt',\n",
    "#         './models/best_model_Multi_our_VAE_data_gowalla_K_3_N_1_learnreverse_False_anneal_False_lrdec_0.001_lrenc_0.001_learntransitions_False_initstepsize_0.01.pt',\n",
    "#     ],\n",
    "]"
   ]
  },
  {
   "cell_type": "code",
   "execution_count": 10,
   "metadata": {},
   "outputs": [
    {
     "name": "stderr",
     "output_type": "stream",
     "text": [
      "  0%|          | 0/5 [00:00<?, ?it/s]./src/metrics.py:32: RuntimeWarning: invalid value encountered in true_divide\n",
      "  a = DCG / IDCG\n",
      "./src/metrics.py:47: RuntimeWarning: invalid value encountered in true_divide\n",
      "  recall = tmp / np.minimum(k, X_true_binary.sum(axis=1))\n",
      " 20%|██        | 1/5 [00:05<00:21,  5.44s/it]/home/nkotelevskii/anaconda3/envs/condatorch/lib/python3.7/site-packages/torch/serialization.py:593: SourceChangeWarning: source code of class 'models.Target' has changed. you can retrieve the original source code by accessing the object's source attribute or set `torch.nn.Module.dump_patches = True` and use the patch tool to revert the changes.\n",
      "  warnings.warn(msg, SourceChangeWarning)\n",
      "100%|██████████| 5/5 [01:32<00:00, 18.56s/it]\n"
     ]
    }
   ],
   "source": [
    "pattern_1 = re.compile(r'best_model_(\\w*)_data_([\\w\\d]*)_K_([\\d\\w]*)_N_([\\d\\w]*)_learnreverse_(\\w*)_anneal_(\\w*)_lrdec_([.\\d]*)_lrenc_([.\\d\\w]*)_learntransitions_([\\w]*)_initstepsize_([.\\d]*)\\.pt')\n",
    "\n",
    "for i, data in enumerate(['gowalla']):#['ml100k', 'ml20m', 'ml25m']):\n",
    "    args.data = data\n",
    "    dataset = Dataset(args, data_dir='./data/')\n",
    "    models = models_list[i]\n",
    "    for m in tqdm(models):\n",
    "        vals = re.findall(pattern_1, m)[0]\n",
    "        resulting_dict['model'].append(vals[0])\n",
    "        resulting_dict['data'].append(args.data)\n",
    "        resulting_dict['K'].append(vals[2])\n",
    "        resulting_dict['N'].append(vals[3])\n",
    "        resulting_dict['learnreverse'].append(vals[4])\n",
    "        resulting_dict['anneal'].append(vals[5])\n",
    "        resulting_dict['learntransitions'].append(vals[8])\n",
    "        resulting_dict['initstepsize'].append(vals[9])\n",
    "        \n",
    "        model = load_model(m, device)\n",
    "        ndcg_5 = []\n",
    "        ndcg_10 = []\n",
    "        ndcg_20 = []\n",
    "        ndcg_50 = []\n",
    "        ndcg_100 = []\n",
    "        recall_5 = []\n",
    "        recall_10 = []\n",
    "        recall_20 = []\n",
    "        recall_50 = []\n",
    "        recall_100 = []\n",
    "        for bnum, batch_val in enumerate(dataset.next_val_batch()):\n",
    "            reshaped_batch = batch_val[0].repeat((args.n_val_samples, 1))\n",
    "            out = model(reshaped_batch)[0]  ### Here we are using noise when estimate metrics\n",
    "            with torch.no_grad():\n",
    "                pred_val = out.detach().view((args.n_val_samples, *batch_val[0].shape)).mean(0)\n",
    "                X = batch_val[0].cpu().detach().numpy()\n",
    "                pred_val = pred_val.cpu().detach().numpy()\n",
    "                pred_val[X.nonzero()] = -np.inf\n",
    "                ndcg_5.append(NDCG_binary_at_k_batch(pred_val, batch_val[1], k=5))\n",
    "                ndcg_10.append(NDCG_binary_at_k_batch(pred_val, batch_val[1], k=10))\n",
    "                ndcg_20.append(NDCG_binary_at_k_batch(pred_val, batch_val[1], k=20))\n",
    "                ndcg_50.append(NDCG_binary_at_k_batch(pred_val, batch_val[1], k=50))\n",
    "                ndcg_100.append(NDCG_binary_at_k_batch(pred_val, batch_val[1], k=100))\n",
    "                recall_5.append(Recall_at_k_batch(pred_val, batch_val[1], k=5))\n",
    "                recall_10.append(Recall_at_k_batch(pred_val, batch_val[1], k=10))\n",
    "                recall_20.append(Recall_at_k_batch(pred_val, batch_val[1], k=20))\n",
    "                recall_50.append(Recall_at_k_batch(pred_val, batch_val[1], k=50))\n",
    "                recall_100.append(Recall_at_k_batch(pred_val, batch_val[1], k=100))\n",
    "            del out\n",
    "        ndcg_5_dist = np.concatenate(ndcg_5)\n",
    "        ndcg_10_dist = np.concatenate(ndcg_10)\n",
    "        ndcg_20_dist = np.concatenate(ndcg_20)\n",
    "        ndcg_50_dist = np.concatenate(ndcg_50)\n",
    "        ndcg_100_dist = np.concatenate(ndcg_100)\n",
    "\n",
    "        recall_5_dist = np.concatenate(recall_5)\n",
    "        recall_10_dist = np.concatenate(recall_10)\n",
    "        recall_20_dist = np.concatenate(recall_20)\n",
    "        recall_50_dist = np.concatenate(recall_50)\n",
    "        recall_100_dist = np.concatenate(recall_100)\n",
    "\n",
    "        current_ndcg_5 = ndcg_5_dist.mean()\n",
    "        current_ndcg_10 = ndcg_10_dist.mean()\n",
    "        current_ndcg_20 = ndcg_20_dist.mean()\n",
    "        current_ndcg_50 = ndcg_50_dist.mean()\n",
    "        current_ndcg_100 = ndcg_100_dist.mean()\n",
    "\n",
    "        current_recall_5 = recall_5_dist.mean()\n",
    "        current_recall_10 = recall_10_dist.mean()\n",
    "        current_recall_20 = recall_20_dist.mean()\n",
    "        current_recall_50 = recall_50_dist.mean()\n",
    "        current_recall_100 = recall_100_dist.mean()\n",
    "        \n",
    "        resulting_dict['ndcg_5'].append(current_ndcg_5)\n",
    "        resulting_dict['ndcg_10'].append(current_ndcg_10)\n",
    "        resulting_dict['ndcg_20'].append(current_ndcg_20)\n",
    "        resulting_dict['ndcg_50'].append(current_ndcg_50)\n",
    "        resulting_dict['ndcg_100'].append(current_ndcg_100)\n",
    "\n",
    "        resulting_dict['recall_5'].append(current_recall_5)\n",
    "        resulting_dict['recall_10'].append(current_recall_10)\n",
    "        resulting_dict['recall_20'].append(current_recall_20)\n",
    "        resulting_dict['recall_50'].append(current_recall_50)\n",
    "        resulting_dict['recall_100'].append(current_recall_100)\n",
    "        del model\n",
    "        gc.collect()\n",
    "    del dataset"
   ]
  },
  {
   "cell_type": "code",
   "execution_count": 11,
   "metadata": {},
   "outputs": [],
   "source": [
    "pd.set_option('display.max_colwidth', 100)"
   ]
  },
  {
   "cell_type": "code",
   "execution_count": 12,
   "metadata": {},
   "outputs": [
    {
     "data": {
      "text/html": [
       "<div>\n",
       "<style scoped>\n",
       "    .dataframe tbody tr th:only-of-type {\n",
       "        vertical-align: middle;\n",
       "    }\n",
       "\n",
       "    .dataframe tbody tr th {\n",
       "        vertical-align: top;\n",
       "    }\n",
       "\n",
       "    .dataframe thead th {\n",
       "        text-align: right;\n",
       "    }\n",
       "</style>\n",
       "<table border=\"1\" class=\"dataframe\">\n",
       "  <thead>\n",
       "    <tr style=\"text-align: right;\">\n",
       "      <th></th>\n",
       "      <th>model</th>\n",
       "      <th>data</th>\n",
       "      <th>K</th>\n",
       "      <th>N</th>\n",
       "      <th>anneal</th>\n",
       "      <th>learnreverse</th>\n",
       "      <th>learntransitions</th>\n",
       "      <th>initstepsize</th>\n",
       "      <th>recall_5</th>\n",
       "      <th>recall_10</th>\n",
       "      <th>recall_20</th>\n",
       "      <th>recall_50</th>\n",
       "      <th>recall_100</th>\n",
       "      <th>ndcg_5</th>\n",
       "      <th>ndcg_10</th>\n",
       "      <th>ndcg_20</th>\n",
       "      <th>ndcg_50</th>\n",
       "      <th>ndcg_100</th>\n",
       "    </tr>\n",
       "  </thead>\n",
       "  <tbody>\n",
       "    <tr>\n",
       "      <th>0</th>\n",
       "      <td>MultiVAE</td>\n",
       "      <td>gowalla</td>\n",
       "      <td>None</td>\n",
       "      <td>None</td>\n",
       "      <td>False</td>\n",
       "      <td>False</td>\n",
       "      <td>True</td>\n",
       "      <td>0.01</td>\n",
       "      <td>0.085</td>\n",
       "      <td>0.094</td>\n",
       "      <td>0.121</td>\n",
       "      <td>0.183</td>\n",
       "      <td>0.242</td>\n",
       "      <td>0.098</td>\n",
       "      <td>0.100</td>\n",
       "      <td>0.109</td>\n",
       "      <td>0.131</td>\n",
       "      <td>0.150</td>\n",
       "    </tr>\n",
       "    <tr>\n",
       "      <th>1</th>\n",
       "      <td>Multi_our_VAE</td>\n",
       "      <td>gowalla</td>\n",
       "      <td>2</td>\n",
       "      <td>1</td>\n",
       "      <td>False</td>\n",
       "      <td>False</td>\n",
       "      <td>False</td>\n",
       "      <td>0.01</td>\n",
       "      <td>0.094</td>\n",
       "      <td>0.102</td>\n",
       "      <td>0.126</td>\n",
       "      <td>0.186</td>\n",
       "      <td>0.248</td>\n",
       "      <td>0.103</td>\n",
       "      <td>0.104</td>\n",
       "      <td>0.112</td>\n",
       "      <td>0.134</td>\n",
       "      <td>0.153</td>\n",
       "    </tr>\n",
       "    <tr>\n",
       "      <th>2</th>\n",
       "      <td>Multi_our_VAE</td>\n",
       "      <td>gowalla</td>\n",
       "      <td>2</td>\n",
       "      <td>1</td>\n",
       "      <td>False</td>\n",
       "      <td>True</td>\n",
       "      <td>True</td>\n",
       "      <td>0.01</td>\n",
       "      <td>0.088</td>\n",
       "      <td>0.097</td>\n",
       "      <td>0.123</td>\n",
       "      <td>0.185</td>\n",
       "      <td>0.241</td>\n",
       "      <td>0.098</td>\n",
       "      <td>0.098</td>\n",
       "      <td>0.108</td>\n",
       "      <td>0.130</td>\n",
       "      <td>0.148</td>\n",
       "    </tr>\n",
       "    <tr>\n",
       "      <th>3</th>\n",
       "      <td>Multi_our_VAE</td>\n",
       "      <td>gowalla</td>\n",
       "      <td>3</td>\n",
       "      <td>1</td>\n",
       "      <td>False</td>\n",
       "      <td>True</td>\n",
       "      <td>True</td>\n",
       "      <td>0.01</td>\n",
       "      <td>0.089</td>\n",
       "      <td>0.094</td>\n",
       "      <td>0.120</td>\n",
       "      <td>0.182</td>\n",
       "      <td>0.251</td>\n",
       "      <td>0.102</td>\n",
       "      <td>0.101</td>\n",
       "      <td>0.110</td>\n",
       "      <td>0.132</td>\n",
       "      <td>0.153</td>\n",
       "    </tr>\n",
       "    <tr>\n",
       "      <th>4</th>\n",
       "      <td>Multi_our_VAE</td>\n",
       "      <td>gowalla</td>\n",
       "      <td>3</td>\n",
       "      <td>1</td>\n",
       "      <td>False</td>\n",
       "      <td>False</td>\n",
       "      <td>False</td>\n",
       "      <td>0.01</td>\n",
       "      <td>0.090</td>\n",
       "      <td>0.098</td>\n",
       "      <td>0.122</td>\n",
       "      <td>0.183</td>\n",
       "      <td>0.241</td>\n",
       "      <td>0.101</td>\n",
       "      <td>0.102</td>\n",
       "      <td>0.110</td>\n",
       "      <td>0.131</td>\n",
       "      <td>0.150</td>\n",
       "    </tr>\n",
       "  </tbody>\n",
       "</table>\n",
       "</div>"
      ],
      "text/plain": [
       "           model     data     K     N anneal learnreverse learntransitions  \\\n",
       "0       MultiVAE  gowalla  None  None  False        False             True   \n",
       "1  Multi_our_VAE  gowalla     2     1  False        False            False   \n",
       "2  Multi_our_VAE  gowalla     2     1  False         True             True   \n",
       "3  Multi_our_VAE  gowalla     3     1  False         True             True   \n",
       "4  Multi_our_VAE  gowalla     3     1  False        False            False   \n",
       "\n",
       "  initstepsize  recall_5  recall_10  recall_20  recall_50  recall_100  ndcg_5  \\\n",
       "0         0.01     0.085      0.094      0.121      0.183       0.242   0.098   \n",
       "1         0.01     0.094      0.102      0.126      0.186       0.248   0.103   \n",
       "2         0.01     0.088      0.097      0.123      0.185       0.241   0.098   \n",
       "3         0.01     0.089      0.094      0.120      0.182       0.251   0.102   \n",
       "4         0.01     0.090      0.098      0.122      0.183       0.241   0.101   \n",
       "\n",
       "   ndcg_10  ndcg_20  ndcg_50  ndcg_100  \n",
       "0    0.100    0.109    0.131     0.150  \n",
       "1    0.104    0.112    0.134     0.153  \n",
       "2    0.098    0.108    0.130     0.148  \n",
       "3    0.101    0.110    0.132     0.153  \n",
       "4    0.102    0.110    0.131     0.150  "
      ]
     },
     "execution_count": 12,
     "metadata": {},
     "output_type": "execute_result"
    }
   ],
   "source": [
    "df = pd.DataFrame(resulting_dict)\n",
    "# df.to_csv('./eval_results_bests.csv', index=False)\n",
    "df.round(3)"
   ]
  },
  {
   "cell_type": "code",
   "execution_count": 13,
   "metadata": {},
   "outputs": [
    {
     "name": "stdout",
     "output_type": "stream",
     "text": [
      "\\begin{tabular}{lllllrrrrrrrrrr}\n",
      "\\toprule\n",
      "         model &     data &     K & anneal & learntransitions &  recall\\_5 &  recall\\_10 &  recall\\_20 &  recall\\_50 &  recall\\_100 &  ndcg\\_5 &  ndcg\\_10 &  ndcg\\_20 &  ndcg\\_50 &  ndcg\\_100 \\\\\n",
      "\\midrule\n",
      "      MultiVAE &  gowalla &  None &  False &             True &     0.085 &      0.094 &      0.121 &      0.183 &       0.242 &   0.098 &    0.100 &    0.109 &    0.131 &     0.150 \\\\\n",
      " Multi\\_our\\_VAE &  gowalla &     2 &  False &            False &     0.094 &      0.102 &      0.126 &      0.186 &       0.248 &   0.103 &    0.104 &    0.112 &    0.134 &     0.153 \\\\\n",
      " Multi\\_our\\_VAE &  gowalla &     2 &  False &             True &     0.088 &      0.097 &      0.123 &      0.185 &       0.241 &   0.098 &    0.098 &    0.108 &    0.130 &     0.148 \\\\\n",
      " Multi\\_our\\_VAE &  gowalla &     3 &  False &             True &     0.089 &      0.094 &      0.120 &      0.182 &       0.251 &   0.102 &    0.101 &    0.110 &    0.132 &     0.153 \\\\\n",
      " Multi\\_our\\_VAE &  gowalla &     3 &  False &            False &     0.090 &      0.098 &      0.122 &      0.183 &       0.241 &   0.101 &    0.102 &    0.110 &    0.131 &     0.150 \\\\\n",
      "\\bottomrule\n",
      "\\end{tabular}\n",
      "\n"
     ]
    }
   ],
   "source": [
    "print(df.round(3).drop(['learnreverse', 'N', 'initstepsize',], axis=1).to_latex(index=False))"
   ]
  },
  {
   "cell_type": "code",
   "execution_count": null,
   "metadata": {},
   "outputs": [],
   "source": []
  },
  {
   "cell_type": "code",
   "execution_count": 12,
   "metadata": {},
   "outputs": [
    {
     "data": {
      "text/html": [
       "<div>\n",
       "<style scoped>\n",
       "    .dataframe tbody tr th:only-of-type {\n",
       "        vertical-align: middle;\n",
       "    }\n",
       "\n",
       "    .dataframe tbody tr th {\n",
       "        vertical-align: top;\n",
       "    }\n",
       "\n",
       "    .dataframe thead th {\n",
       "        text-align: right;\n",
       "    }\n",
       "</style>\n",
       "<table border=\"1\" class=\"dataframe\">\n",
       "  <thead>\n",
       "    <tr style=\"text-align: right;\">\n",
       "      <th></th>\n",
       "      <th>model</th>\n",
       "      <th>data</th>\n",
       "      <th>K</th>\n",
       "      <th>N</th>\n",
       "      <th>anneal</th>\n",
       "      <th>learnreverse</th>\n",
       "      <th>learntransitions</th>\n",
       "      <th>initstepsize</th>\n",
       "      <th>recall_5</th>\n",
       "      <th>recall_10</th>\n",
       "      <th>recall_20</th>\n",
       "      <th>recall_50</th>\n",
       "      <th>recall_100</th>\n",
       "      <th>ndcg_5</th>\n",
       "      <th>ndcg_10</th>\n",
       "      <th>ndcg_20</th>\n",
       "      <th>ndcg_50</th>\n",
       "      <th>ndcg_100</th>\n",
       "    </tr>\n",
       "  </thead>\n",
       "  <tbody>\n",
       "    <tr>\n",
       "      <th>0</th>\n",
       "      <td>MultiVAE</td>\n",
       "      <td>ml20m</td>\n",
       "      <td>None</td>\n",
       "      <td>None</td>\n",
       "      <td>True</td>\n",
       "      <td>False</td>\n",
       "      <td>True</td>\n",
       "      <td>0.1</td>\n",
       "      <td>0.315</td>\n",
       "      <td>0.334</td>\n",
       "      <td>0.397</td>\n",
       "      <td>0.536</td>\n",
       "      <td>0.661</td>\n",
       "      <td>0.322</td>\n",
       "      <td>0.320</td>\n",
       "      <td>0.337</td>\n",
       "      <td>0.385</td>\n",
       "      <td>0.429</td>\n",
       "    </tr>\n",
       "    <tr>\n",
       "      <th>1</th>\n",
       "      <td>MultiVAE</td>\n",
       "      <td>ml20m</td>\n",
       "      <td>None</td>\n",
       "      <td>None</td>\n",
       "      <td>False</td>\n",
       "      <td>False</td>\n",
       "      <td>True</td>\n",
       "      <td>0.1</td>\n",
       "      <td>0.287</td>\n",
       "      <td>0.303</td>\n",
       "      <td>0.362</td>\n",
       "      <td>0.501</td>\n",
       "      <td>0.627</td>\n",
       "      <td>0.295</td>\n",
       "      <td>0.292</td>\n",
       "      <td>0.308</td>\n",
       "      <td>0.355</td>\n",
       "      <td>0.399</td>\n",
       "    </tr>\n",
       "    <tr>\n",
       "      <th>2</th>\n",
       "      <td>Multi_our_VAE</td>\n",
       "      <td>ml20m</td>\n",
       "      <td>2</td>\n",
       "      <td>1</td>\n",
       "      <td>False</td>\n",
       "      <td>False</td>\n",
       "      <td>False</td>\n",
       "      <td>0.01</td>\n",
       "      <td>0.308</td>\n",
       "      <td>0.329</td>\n",
       "      <td>0.388</td>\n",
       "      <td>0.528</td>\n",
       "      <td>0.654</td>\n",
       "      <td>0.314</td>\n",
       "      <td>0.313</td>\n",
       "      <td>0.330</td>\n",
       "      <td>0.378</td>\n",
       "      <td>0.421</td>\n",
       "    </tr>\n",
       "    <tr>\n",
       "      <th>3</th>\n",
       "      <td>Multi_our_VAE</td>\n",
       "      <td>ml20m</td>\n",
       "      <td>3</td>\n",
       "      <td>1</td>\n",
       "      <td>False</td>\n",
       "      <td>False</td>\n",
       "      <td>False</td>\n",
       "      <td>0.01</td>\n",
       "      <td>0.305</td>\n",
       "      <td>0.324</td>\n",
       "      <td>0.387</td>\n",
       "      <td>0.525</td>\n",
       "      <td>0.648</td>\n",
       "      <td>0.310</td>\n",
       "      <td>0.309</td>\n",
       "      <td>0.327</td>\n",
       "      <td>0.375</td>\n",
       "      <td>0.418</td>\n",
       "    </tr>\n",
       "    <tr>\n",
       "      <th>4</th>\n",
       "      <td>MultiVAE</td>\n",
       "      <td>foursquare</td>\n",
       "      <td>None</td>\n",
       "      <td>None</td>\n",
       "      <td>False</td>\n",
       "      <td>False</td>\n",
       "      <td>True</td>\n",
       "      <td>0.1</td>\n",
       "      <td>0.060</td>\n",
       "      <td>0.066</td>\n",
       "      <td>0.093</td>\n",
       "      <td>0.147</td>\n",
       "      <td>0.205</td>\n",
       "      <td>0.069</td>\n",
       "      <td>0.071</td>\n",
       "      <td>0.084</td>\n",
       "      <td>0.107</td>\n",
       "      <td>0.127</td>\n",
       "    </tr>\n",
       "    <tr>\n",
       "      <th>5</th>\n",
       "      <td>Multi_our_VAE</td>\n",
       "      <td>foursquare</td>\n",
       "      <td>2</td>\n",
       "      <td>1</td>\n",
       "      <td>False</td>\n",
       "      <td>False</td>\n",
       "      <td>False</td>\n",
       "      <td>0.01</td>\n",
       "      <td>0.065</td>\n",
       "      <td>0.064</td>\n",
       "      <td>0.095</td>\n",
       "      <td>0.155</td>\n",
       "      <td>0.206</td>\n",
       "      <td>0.075</td>\n",
       "      <td>0.071</td>\n",
       "      <td>0.087</td>\n",
       "      <td>0.112</td>\n",
       "      <td>0.130</td>\n",
       "    </tr>\n",
       "    <tr>\n",
       "      <th>6</th>\n",
       "      <td>Multi_our_VAE</td>\n",
       "      <td>foursquare</td>\n",
       "      <td>3</td>\n",
       "      <td>1</td>\n",
       "      <td>False</td>\n",
       "      <td>False</td>\n",
       "      <td>False</td>\n",
       "      <td>0.01</td>\n",
       "      <td>0.066</td>\n",
       "      <td>0.070</td>\n",
       "      <td>0.096</td>\n",
       "      <td>0.152</td>\n",
       "      <td>0.205</td>\n",
       "      <td>0.077</td>\n",
       "      <td>0.076</td>\n",
       "      <td>0.089</td>\n",
       "      <td>0.112</td>\n",
       "      <td>0.131</td>\n",
       "    </tr>\n",
       "  </tbody>\n",
       "</table>\n",
       "</div>"
      ],
      "text/plain": [
       "           model        data     K     N anneal learnreverse learntransitions  \\\n",
       "0       MultiVAE       ml20m  None  None   True        False             True   \n",
       "1       MultiVAE       ml20m  None  None  False        False             True   \n",
       "2  Multi_our_VAE       ml20m     2     1  False        False            False   \n",
       "3  Multi_our_VAE       ml20m     3     1  False        False            False   \n",
       "4       MultiVAE  foursquare  None  None  False        False             True   \n",
       "5  Multi_our_VAE  foursquare     2     1  False        False            False   \n",
       "6  Multi_our_VAE  foursquare     3     1  False        False            False   \n",
       "\n",
       "  initstepsize  recall_5  recall_10  recall_20  recall_50  recall_100  ndcg_5  \\\n",
       "0          0.1     0.315      0.334      0.397      0.536       0.661   0.322   \n",
       "1          0.1     0.287      0.303      0.362      0.501       0.627   0.295   \n",
       "2         0.01     0.308      0.329      0.388      0.528       0.654   0.314   \n",
       "3         0.01     0.305      0.324      0.387      0.525       0.648   0.310   \n",
       "4          0.1     0.060      0.066      0.093      0.147       0.205   0.069   \n",
       "5         0.01     0.065      0.064      0.095      0.155       0.206   0.075   \n",
       "6         0.01     0.066      0.070      0.096      0.152       0.205   0.077   \n",
       "\n",
       "   ndcg_10  ndcg_20  ndcg_50  ndcg_100  \n",
       "0    0.320    0.337    0.385     0.429  \n",
       "1    0.292    0.308    0.355     0.399  \n",
       "2    0.313    0.330    0.378     0.421  \n",
       "3    0.309    0.327    0.375     0.418  \n",
       "4    0.071    0.084    0.107     0.127  \n",
       "5    0.071    0.087    0.112     0.130  \n",
       "6    0.076    0.089    0.112     0.131  "
      ]
     },
     "execution_count": 12,
     "metadata": {},
     "output_type": "execute_result"
    }
   ],
   "source": [
    "df = pd.DataFrame(resulting_dict)\n",
    "# df.to_csv('./eval_results_bests.csv', index=False)\n",
    "df.round(3)"
   ]
  },
  {
   "cell_type": "code",
   "execution_count": 15,
   "metadata": {},
   "outputs": [
    {
     "name": "stdout",
     "output_type": "stream",
     "text": [
      "\\begin{tabular}{lllllrrrrrrrrrr}\n",
      "\\toprule\n",
      "         model &        data &     K & anneal & learntransitions &  recall\\_5 &  recall\\_10 &  recall\\_20 &  recall\\_50 &  recall\\_100 &  ndcg\\_5 &  ndcg\\_10 &  ndcg\\_20 &  ndcg\\_50 &  ndcg\\_100 \\\\\n",
      "\\midrule\n",
      "      MultiVAE &       ml20m &  None &   True &             True &     0.315 &      0.334 &      0.397 &      0.536 &       0.661 &   0.322 &    0.320 &    0.337 &    0.385 &     0.429 \\\\\n",
      "      MultiVAE &       ml20m &  None &  False &             True &     0.287 &      0.303 &      0.362 &      0.501 &       0.627 &   0.295 &    0.292 &    0.308 &    0.355 &     0.399 \\\\\n",
      " Multi\\_our\\_VAE &       ml20m &     2 &  False &            False &     0.308 &      0.329 &      0.388 &      0.528 &       0.654 &   0.314 &    0.313 &    0.330 &    0.378 &     0.421 \\\\\n",
      " Multi\\_our\\_VAE &       ml20m &     3 &  False &            False &     0.305 &      0.324 &      0.387 &      0.525 &       0.648 &   0.310 &    0.309 &    0.327 &    0.375 &     0.418 \\\\\n",
      "      MultiVAE &  foursquare &  None &  False &             True &     0.060 &      0.066 &      0.093 &      0.147 &       0.205 &   0.069 &    0.071 &    0.084 &    0.107 &     0.127 \\\\\n",
      " Multi\\_our\\_VAE &  foursquare &     2 &  False &            False &     0.065 &      0.064 &      0.095 &      0.155 &       0.206 &   0.075 &    0.071 &    0.087 &    0.112 &     0.130 \\\\\n",
      " Multi\\_our\\_VAE &  foursquare &     3 &  False &            False &     0.066 &      0.070 &      0.096 &      0.152 &       0.205 &   0.077 &    0.076 &    0.089 &    0.112 &     0.131 \\\\\n",
      "\\bottomrule\n",
      "\\end{tabular}\n",
      "\n"
     ]
    }
   ],
   "source": [
    "print(df.round(3).drop(['learnreverse', 'N', 'initstepsize',], axis=1).to_latex(index=False))"
   ]
  },
  {
   "cell_type": "code",
   "execution_count": null,
   "metadata": {},
   "outputs": [],
   "source": []
  },
  {
   "cell_type": "code",
   "execution_count": null,
   "metadata": {},
   "outputs": [],
   "source": []
  },
  {
   "cell_type": "code",
   "execution_count": 13,
   "metadata": {},
   "outputs": [],
   "source": [
    "# df = pd.DataFrame(resulting_dict)\n",
    "# # df.to_csv('./eval_results_bests.csv', index=False)\n",
    "# df.round(3)"
   ]
  },
  {
   "cell_type": "code",
   "execution_count": 12,
   "metadata": {},
   "outputs": [],
   "source": [
    "# df = pd.DataFrame(resulting_dict)\n",
    "# # df.to_csv('./eval_results_bests.csv', index=False)\n",
    "# df[df['model']!='Multi_ourHoffman_VAE'][df['model']!='MultiDAE'].round(3)\n",
    "# # df"
   ]
  },
  {
   "cell_type": "code",
   "execution_count": 13,
   "metadata": {},
   "outputs": [],
   "source": [
    "# print(df[df['model']!='Multi_ourHoffman_VAE'][df['model']!='MultiDAE'].round(3).drop(['learnreverse', 'N'], axis=1)#.to_latex(index=False))"
   ]
  },
  {
   "cell_type": "code",
   "execution_count": 14,
   "metadata": {},
   "outputs": [],
   "source": [
    "# df[df.noise == 1.].sort_values('ndcg', ascending=False).head(30)"
   ]
  },
  {
   "cell_type": "code",
   "execution_count": 15,
   "metadata": {},
   "outputs": [],
   "source": [
    "# df[df.noise == 0.].sort_values('ndcg', ascending=False).head(33)"
   ]
  },
  {
   "cell_type": "code",
   "execution_count": null,
   "metadata": {},
   "outputs": [],
   "source": []
  },
  {
   "cell_type": "markdown",
   "metadata": {},
   "source": [
    "# Parameters output"
   ]
  },
  {
   "cell_type": "code",
   "execution_count": 5,
   "metadata": {},
   "outputs": [
    {
     "name": "stdout",
     "output_type": "stream",
     "text": [
      "0\n",
      "autoreg: tensor(0.9000, device='cuda:0')\n",
      "stepsize tensor(0.0050, device='cuda:0')\n",
      "----------------------------------------------------------------------------------------------------\n",
      "1\n",
      "autoreg: tensor(0.9000, device='cuda:0')\n",
      "stepsize tensor(0.0050, device='cuda:0')\n",
      "----------------------------------------------------------------------------------------------------\n",
      "2\n",
      "autoreg: tensor(0.9000, device='cuda:0')\n",
      "stepsize tensor(0.0050, device='cuda:0')\n",
      "----------------------------------------------------------------------------------------------------\n"
     ]
    }
   ],
   "source": [
    "model = load_model('./models/best_model_Multi_our_VAE_data_ml20m_K_3_N_1_learnreverse_True_anneal_False_lrdec_0.0003_lrenc_0.001_learntransitions_False_initstepsize_0.005.pt', 'cuda')\n",
    "for i, transition in enumerate(model.transitions):\n",
    "    print(i)\n",
    "    print('autoreg:', torch.sigmoid(transition.alpha_logit))\n",
    "    print('stepsize', torch.exp(transition.gamma))\n",
    "    print('-' * 100)"
   ]
  },
  {
   "cell_type": "code",
   "execution_count": 16,
   "metadata": {},
   "outputs": [],
   "source": [
    "models_list = [\n",
    "    './models/best_model_MultiVAE_data_ml20m_K_None_N_None_learnreverse_False_anneal_False_lrdec_0.001_lrenc_None.pt',\n",
    "    './models/best_model_Multi_our_VAE_data_ml20m_K_3_N_1_learnreverse_True_anneal_False_lrdec_0.0003_lrenc_0.001_learntransitions_False_initstepsize_0.005.pt',\n",
    "    './models/best_model_Multi_our_VAE_data_ml20m_K_3_N_1_learnreverse_True_anneal_False_lrdec_0.0003_lrenc_0.001_learntransitions_True_initstepsize_0.1.pt',\n",
    "    './models/best_model_MultiVAE_K_None_N_None_learnreverse_False_anneal_True_lrdec_0.001_lrenc_None.pt',\n",
    "    './models/best_model_Multi_our_VAE_data_ml20m_K_3_N_1_learnreverse_True_anneal_True_lrdec_0.0003_lrenc_0.001_learntransitions_True_initstepsize_0.1.pt',\n",
    "    './models/best_model_Multi_ourHoffman_VAE_data_ml20m_K_3_N_1_learnreverse_True_anneal_True_lrdec_0.0003_lrenc_0.001_learntransitions_False_initstepsize_0.005.pt'\n",
    "]"
   ]
  },
  {
   "cell_type": "code",
   "execution_count": 21,
   "metadata": {},
   "outputs": [
    {
     "name": "stdout",
     "output_type": "stream",
     "text": [
      "./models/best_model_MultiVAE_data_ml20m_K_None_N_None_learnreverse_False_anneal_False_lrdec_0.001_lrenc_None.pt\n",
      "tensor([[1.0022, 0.9958, 0.9977,  ..., 0.6612, 0.9921, 0.9933],\n",
      "        [1.0005, 1.0043, 1.0120,  ..., 0.7581, 0.9967, 0.9844],\n",
      "        [0.9957, 1.0051, 1.0160,  ..., 0.4933, 1.0019, 0.9804],\n",
      "        ...,\n",
      "        [0.9935, 1.0088, 1.0026,  ..., 0.9374, 1.0044, 1.0035],\n",
      "        [1.0048, 1.0114, 1.0095,  ..., 0.8276, 0.9971, 0.9945],\n",
      "        [1.0014, 1.0036, 1.0072,  ..., 0.8943, 0.9962, 0.9930]],\n",
      "       device='cuda:1')\n",
      "min std tensor(0.0285, device='cuda:1')\n",
      "----------------------------------------------------------------------------------------------------\n",
      "./models/best_model_Multi_our_VAE_data_ml20m_K_3_N_1_learnreverse_True_anneal_False_lrdec_0.0003_lrenc_0.001_learntransitions_False_initstepsize_0.005.pt\n",
      "tensor([[0.9840, 1.0332, 1.0254,  ..., 1.0187, 1.0236, 0.2076],\n",
      "        [0.9756, 1.0036, 1.0029,  ..., 1.0025, 1.0062, 0.2216],\n",
      "        [0.9666, 0.9646, 1.0012,  ..., 0.9911, 0.9961, 0.1463],\n",
      "        ...,\n",
      "        [0.9743, 1.0097, 1.0353,  ..., 0.9973, 1.0218, 0.2437],\n",
      "        [0.9921, 0.9939, 1.0254,  ..., 1.0295, 1.0040, 0.2561],\n",
      "        [0.9807, 1.0296, 1.0178,  ..., 1.0065, 1.0010, 0.1765]],\n",
      "       device='cuda:1')\n",
      "min std tensor(0.0450, device='cuda:1')\n",
      "----------------------------------------------------------------------------------------------------\n",
      "./models/best_model_Multi_our_VAE_data_ml20m_K_3_N_1_learnreverse_True_anneal_False_lrdec_0.0003_lrenc_0.001_learntransitions_True_initstepsize_0.1.pt\n",
      "tensor([[1.0090, 0.5140, 0.9869,  ..., 0.9927, 1.0071, 0.9919],\n",
      "        [0.9958, 0.6520, 1.0055,  ..., 0.9890, 1.0172, 1.0127],\n",
      "        [0.9803, 0.4066, 0.9810,  ..., 0.9854, 1.0331, 1.0122],\n",
      "        ...,\n",
      "        [1.0044, 0.8708, 1.0093,  ..., 1.0097, 1.0089, 0.9948],\n",
      "        [1.0033, 0.6891, 0.9728,  ..., 0.9866, 1.0186, 1.0216],\n",
      "        [1.0216, 0.7718, 0.9935,  ..., 0.9894, 1.0151, 1.0090]],\n",
      "       device='cuda:1')\n",
      "min std tensor(0.0645, device='cuda:1')\n",
      "----------------------------------------------------------------------------------------------------\n",
      "./models/best_model_MultiVAE_K_None_N_None_learnreverse_False_anneal_True_lrdec_0.001_lrenc_None.pt\n",
      "tensor([[0.6495, 0.3365, 0.7231,  ..., 0.6724, 0.6726, 0.6368],\n",
      "        [0.7850, 0.3529, 0.8062,  ..., 0.7580, 0.7861, 0.7616],\n",
      "        [0.5782, 0.2469, 0.5851,  ..., 0.5529, 0.5764, 0.5062],\n",
      "        ...,\n",
      "        [0.9156, 0.6246, 0.9334,  ..., 0.9095, 0.9060, 0.9335],\n",
      "        [0.8386, 0.4450, 0.8322,  ..., 0.7923, 0.8636, 0.8265],\n",
      "        [0.9241, 0.6063, 0.9123,  ..., 0.8990, 0.9410, 0.9216]],\n",
      "       device='cuda:1')\n",
      "min std tensor(0.0264, device='cuda:1')\n",
      "----------------------------------------------------------------------------------------------------\n",
      "./models/best_model_Multi_our_VAE_data_ml20m_K_3_N_1_learnreverse_True_anneal_True_lrdec_0.0003_lrenc_0.001_learntransitions_True_initstepsize_0.1.pt\n",
      "tensor([[0.7229, 1.0764, 0.7609,  ..., 0.3452, 0.4418, 0.8014],\n",
      "        [0.8621, 1.0390, 0.8830,  ..., 0.3905, 0.4964, 0.8990],\n",
      "        [0.6935, 1.0454, 0.6869,  ..., 0.2635, 0.3331, 0.6889],\n",
      "        ...,\n",
      "        [0.9344, 1.0503, 0.9498,  ..., 0.4404, 0.7618, 0.9482],\n",
      "        [0.8747, 1.0753, 0.8756,  ..., 0.4144, 0.6069, 0.8921],\n",
      "        [0.9642, 1.0559, 0.9166,  ..., 0.4168, 0.7765, 0.9943]],\n",
      "       device='cuda:1')\n",
      "min std tensor(0.0448, device='cuda:1')\n",
      "----------------------------------------------------------------------------------------------------\n",
      "./models/best_model_Multi_ourHoffman_VAE_data_ml20m_K_3_N_1_learnreverse_True_anneal_True_lrdec_0.0003_lrenc_0.001_learntransitions_False_initstepsize_0.005.pt\n",
      "tensor([[0.6684, 0.5430, 0.9740,  ..., 1.0121, 0.3082, 1.0129],\n",
      "        [0.8000, 0.6500, 0.9800,  ..., 1.0217, 0.3183, 1.0028],\n",
      "        [0.5927, 0.4241, 0.9456,  ..., 0.9991, 0.1996, 1.0175],\n",
      "        ...,\n",
      "        [0.9461, 0.8723, 0.9975,  ..., 0.9802, 0.6348, 0.9990],\n",
      "        [0.8815, 0.7593, 0.9766,  ..., 0.9976, 0.3602, 1.0159],\n",
      "        [0.9368, 0.9296, 0.9660,  ..., 0.9958, 0.5570, 1.0438]],\n",
      "       device='cuda:1')\n",
      "min std tensor(0.0385, device='cuda:1')\n",
      "----------------------------------------------------------------------------------------------------\n"
     ]
    }
   ],
   "source": [
    "for bnum, batch_train in enumerate(dataset.next_train_batch()):\n",
    "    l2 = torch.sum(batch_train ** 2, 1)[..., None]\n",
    "    x_normed = batch_train / torch.sqrt(torch.max(l2, torch.ones_like(l2) * 1e-12))\n",
    "    x = model.dropout(x_normed)\n",
    "    break\n",
    "\n",
    "for model_name in models_list:\n",
    "    print(model_name)\n",
    "    model = load_model(model_name, device)\n",
    "    enc_out = model.encoder(x).detach()\n",
    "    mu, logvar = enc_out[:, :model.q_dims[-1]], enc_out[:, model.q_dims[-1]:]\n",
    "    std = torch.exp(0.5 * logvar)\n",
    "    print(std)\n",
    "    print('min std', torch.min(std))\n",
    "    print('-' * 100)"
   ]
  },
  {
   "cell_type": "code",
   "execution_count": null,
   "metadata": {},
   "outputs": [],
   "source": []
  },
  {
   "cell_type": "code",
   "execution_count": null,
   "metadata": {},
   "outputs": [],
   "source": []
  },
  {
   "cell_type": "code",
   "execution_count": null,
   "metadata": {},
   "outputs": [],
   "source": []
  },
  {
   "cell_type": "markdown",
   "metadata": {},
   "source": [
    "# Parameters tuning"
   ]
  },
  {
   "cell_type": "code",
   "execution_count": 4,
   "metadata": {},
   "outputs": [],
   "source": [
    "args.metric = NDCG_binary_at_k_batch\n",
    "args.n_epoches = 50"
   ]
  },
  {
   "cell_type": "code",
   "execution_count": 5,
   "metadata": {
    "collapsed": true,
    "jupyter": {
     "outputs_hidden": true
    }
   },
   "outputs": [
    {
     "name": "stdout",
     "output_type": "stream",
     "text": [
      "lr  0.01\n",
      "Sequential(\n",
      "  (0): Linear(in_features=20108, out_features=600, bias=True)\n",
      "  (1): Tanh()\n",
      "  (2): Linear(in_features=600, out_features=400, bias=True)\n",
      ")\n",
      "Sequential(\n",
      "  (0): Linear(in_features=200, out_features=600, bias=True)\n",
      "  (1): Tanh()\n",
      "  (2): Linear(in_features=600, out_features=20108, bias=True)\n",
      ")\n"
     ]
    },
    {
     "name": "stderr",
     "output_type": "stream",
     "text": [
      "  0%|          | 0/50 [00:00<?, ?it/s]"
     ]
    },
    {
     "name": "stdout",
     "output_type": "stream",
     "text": [
      "763.05676\n",
      "493.5768\n",
      "484.29013\n"
     ]
    },
    {
     "name": "stderr",
     "output_type": "stream",
     "text": [
      "  2%|▏         | 1/50 [00:10<08:28, 10.38s/it]"
     ]
    },
    {
     "name": "stdout",
     "output_type": "stream",
     "text": [
      "Best NDCG: 0.41631043509731697\n",
      "Current NDCG: 0.41631043509731697\n",
      "463.54306\n",
      "482.39844\n",
      "510.4981\n"
     ]
    },
    {
     "name": "stderr",
     "output_type": "stream",
     "text": [
      "  4%|▍         | 2/50 [00:19<08:04, 10.09s/it]"
     ]
    },
    {
     "name": "stdout",
     "output_type": "stream",
     "text": [
      "Best NDCG: 0.41631043509731697\n",
      "Current NDCG: 0.4138572942071415\n",
      "516.3949\n",
      "430.68063\n",
      "476.45618\n"
     ]
    },
    {
     "name": "stderr",
     "output_type": "stream",
     "text": [
      "  6%|▌         | 3/50 [00:29<07:44,  9.88s/it]"
     ]
    },
    {
     "name": "stdout",
     "output_type": "stream",
     "text": [
      "Best NDCG: 0.41631043509731697\n",
      "Current NDCG: 0.4150682787431997\n",
      "432.9654\n",
      "462.94284\n",
      "482.69537\n"
     ]
    },
    {
     "name": "stderr",
     "output_type": "stream",
     "text": [
      "  8%|▊         | 4/50 [00:38<07:31,  9.81s/it]"
     ]
    },
    {
     "name": "stdout",
     "output_type": "stream",
     "text": [
      "Best NDCG: 0.416692228130136\n",
      "Current NDCG: 0.416692228130136\n",
      "446.52295\n",
      "479.25552\n",
      "539.5878\n"
     ]
    },
    {
     "name": "stderr",
     "output_type": "stream",
     "text": [
      " 10%|█         | 5/50 [00:48<07:20,  9.78s/it]"
     ]
    },
    {
     "name": "stdout",
     "output_type": "stream",
     "text": [
      "Best NDCG: 0.41822493721940407\n",
      "Current NDCG: 0.41822493721940407\n",
      "498.0992\n",
      "450.91455\n",
      "442.12695\n"
     ]
    },
    {
     "name": "stderr",
     "output_type": "stream",
     "text": [
      " 12%|█▏        | 6/50 [00:57<07:04,  9.64s/it]"
     ]
    },
    {
     "name": "stdout",
     "output_type": "stream",
     "text": [
      "Best NDCG: 0.41822493721940407\n",
      "Current NDCG: 0.4157217167584744\n",
      "425.31308\n",
      "527.37354\n",
      "420.75342\n"
     ]
    },
    {
     "name": "stderr",
     "output_type": "stream",
     "text": [
      " 14%|█▍        | 7/50 [01:07<06:50,  9.55s/it]"
     ]
    },
    {
     "name": "stdout",
     "output_type": "stream",
     "text": [
      "Best NDCG: 0.41822493721940407\n",
      "Current NDCG: 0.41723965865551965\n",
      "441.63834\n",
      "506.97534\n",
      "453.34097\n"
     ]
    },
    {
     "name": "stderr",
     "output_type": "stream",
     "text": [
      " 16%|█▌        | 8/50 [01:16<06:38,  9.48s/it]"
     ]
    },
    {
     "name": "stdout",
     "output_type": "stream",
     "text": [
      "Best NDCG: 0.41822493721940407\n",
      "Current NDCG: 0.41696528957827567\n",
      "428.03107\n",
      "480.46338\n",
      "443.13422\n"
     ]
    },
    {
     "name": "stderr",
     "output_type": "stream",
     "text": [
      " 18%|█▊        | 9/50 [01:25<06:26,  9.43s/it]"
     ]
    },
    {
     "name": "stdout",
     "output_type": "stream",
     "text": [
      "Best NDCG: 0.41822493721940407\n",
      "Current NDCG: 0.41637291438201235\n",
      "466.2974\n",
      "485.98727\n",
      "445.702\n"
     ]
    },
    {
     "name": "stderr",
     "output_type": "stream",
     "text": [
      " 20%|██        | 10/50 [01:35<06:19,  9.48s/it]"
     ]
    },
    {
     "name": "stdout",
     "output_type": "stream",
     "text": [
      "Best NDCG: 0.41872035576003064\n",
      "Current NDCG: 0.41872035576003064\n",
      "497.65695\n",
      "443.57144\n",
      "476.7284\n"
     ]
    },
    {
     "name": "stderr",
     "output_type": "stream",
     "text": [
      " 22%|██▏       | 11/50 [01:44<06:07,  9.43s/it]"
     ]
    },
    {
     "name": "stdout",
     "output_type": "stream",
     "text": [
      "Best NDCG: 0.41872035576003064\n",
      "Current NDCG: 0.40821928589195966\n",
      "492.0634\n",
      "473.75253\n",
      "485.07083\n"
     ]
    },
    {
     "name": "stderr",
     "output_type": "stream",
     "text": [
      " 24%|██▍       | 12/50 [01:54<05:57,  9.41s/it]"
     ]
    },
    {
     "name": "stdout",
     "output_type": "stream",
     "text": [
      "Best NDCG: 0.41872035576003064\n",
      "Current NDCG: 0.3935823094644125\n",
      "506.2767\n",
      "431.33783\n",
      "497.40567\n"
     ]
    },
    {
     "name": "stderr",
     "output_type": "stream",
     "text": [
      " 26%|██▌       | 13/50 [02:03<05:47,  9.38s/it]"
     ]
    },
    {
     "name": "stdout",
     "output_type": "stream",
     "text": [
      "Best NDCG: 0.41872035576003064\n",
      "Current NDCG: 0.40468618072816953\n",
      "512.1399\n",
      "461.3823\n",
      "515.7036\n"
     ]
    },
    {
     "name": "stderr",
     "output_type": "stream",
     "text": [
      " 28%|██▊       | 14/50 [02:12<05:37,  9.37s/it]"
     ]
    },
    {
     "name": "stdout",
     "output_type": "stream",
     "text": [
      "Best NDCG: 0.41872035576003064\n",
      "Current NDCG: 0.4109761570949583\n",
      "494.78336\n",
      "475.4515\n",
      "411.16495\n"
     ]
    },
    {
     "name": "stderr",
     "output_type": "stream",
     "text": [
      " 30%|███       | 15/50 [02:22<05:27,  9.37s/it]"
     ]
    },
    {
     "name": "stdout",
     "output_type": "stream",
     "text": [
      "Best NDCG: 0.41872035576003064\n",
      "Current NDCG: 0.40939278200979307\n",
      "494.15845\n",
      "493.4303\n",
      "450.76077\n"
     ]
    },
    {
     "name": "stderr",
     "output_type": "stream",
     "text": [
      " 32%|███▏      | 16/50 [02:31<05:18,  9.36s/it]"
     ]
    },
    {
     "name": "stdout",
     "output_type": "stream",
     "text": [
      "Best NDCG: 0.41872035576003064\n",
      "Current NDCG: 0.4115480623475737\n",
      "416.8693\n",
      "456.25928\n",
      "434.8326\n"
     ]
    },
    {
     "name": "stderr",
     "output_type": "stream",
     "text": [
      " 34%|███▍      | 17/50 [02:40<05:08,  9.34s/it]"
     ]
    },
    {
     "name": "stdout",
     "output_type": "stream",
     "text": [
      "Best NDCG: 0.41872035576003064\n",
      "Current NDCG: 0.41095623864209746\n",
      "470.85425\n",
      "474.4855\n",
      "440.32755\n"
     ]
    },
    {
     "name": "stderr",
     "output_type": "stream",
     "text": [
      " 36%|███▌      | 18/50 [02:50<05:00,  9.40s/it]"
     ]
    },
    {
     "name": "stdout",
     "output_type": "stream",
     "text": [
      "Best NDCG: 0.41872035576003064\n",
      "Current NDCG: 0.4075055320637583\n",
      "531.9137\n",
      "576.6005\n",
      "410.6428\n"
     ]
    },
    {
     "name": "stderr",
     "output_type": "stream",
     "text": [
      " 38%|███▊      | 19/50 [02:59<04:50,  9.37s/it]"
     ]
    },
    {
     "name": "stdout",
     "output_type": "stream",
     "text": [
      "Best NDCG: 0.41872035576003064\n",
      "Current NDCG: 0.4027733394503887\n",
      "483.50406\n",
      "493.18765\n",
      "497.98743\n"
     ]
    },
    {
     "name": "stderr",
     "output_type": "stream",
     "text": [
      " 40%|████      | 20/50 [03:08<04:40,  9.36s/it]"
     ]
    },
    {
     "name": "stdout",
     "output_type": "stream",
     "text": [
      "Best NDCG: 0.41872035576003064\n",
      "Current NDCG: 0.4119445840121538\n",
      "436.40628\n",
      "422.42468\n",
      "477.6472\n"
     ]
    },
    {
     "name": "stderr",
     "output_type": "stream",
     "text": [
      " 42%|████▏     | 21/50 [03:18<04:30,  9.34s/it]"
     ]
    },
    {
     "name": "stdout",
     "output_type": "stream",
     "text": [
      "Best NDCG: 0.41872035576003064\n",
      "Current NDCG: 0.4118891706101248\n",
      "470.6049\n",
      "417.9542\n",
      "518.4358\n"
     ]
    },
    {
     "name": "stderr",
     "output_type": "stream",
     "text": [
      " 44%|████▍     | 22/50 [03:27<04:21,  9.34s/it]"
     ]
    },
    {
     "name": "stdout",
     "output_type": "stream",
     "text": [
      "Best NDCG: 0.41872035576003064\n",
      "Current NDCG: 0.41253563736824683\n",
      "469.38947\n",
      "443.94193\n",
      "525.10986\n"
     ]
    },
    {
     "name": "stderr",
     "output_type": "stream",
     "text": [
      " 46%|████▌     | 23/50 [03:36<04:11,  9.32s/it]"
     ]
    },
    {
     "name": "stdout",
     "output_type": "stream",
     "text": [
      "Best NDCG: 0.41872035576003064\n",
      "Current NDCG: 0.41236912146225\n",
      "404.9693\n",
      "477.33673\n",
      "407.43466\n"
     ]
    },
    {
     "name": "stderr",
     "output_type": "stream",
     "text": [
      " 48%|████▊     | 24/50 [03:46<04:02,  9.33s/it]"
     ]
    },
    {
     "name": "stdout",
     "output_type": "stream",
     "text": [
      "Best NDCG: 0.41872035576003064\n",
      "Current NDCG: 0.41205178310562324\n",
      "472.1053\n",
      "404.12073\n",
      "471.79877\n"
     ]
    },
    {
     "name": "stderr",
     "output_type": "stream",
     "text": [
      " 50%|█████     | 25/50 [03:55<03:53,  9.33s/it]"
     ]
    },
    {
     "name": "stdout",
     "output_type": "stream",
     "text": [
      "Best NDCG: 0.41872035576003064\n",
      "Current NDCG: 0.4119115836004921\n",
      "457.32584\n",
      "493.08472\n",
      "430.45514\n"
     ]
    },
    {
     "name": "stderr",
     "output_type": "stream",
     "text": [
      " 52%|█████▏    | 26/50 [04:04<03:43,  9.32s/it]"
     ]
    },
    {
     "name": "stdout",
     "output_type": "stream",
     "text": [
      "Best NDCG: 0.41872035576003064\n",
      "Current NDCG: 0.4182441207747557\n",
      "434.7268\n",
      "459.25348\n",
      "457.3405\n"
     ]
    },
    {
     "name": "stderr",
     "output_type": "stream",
     "text": [
      " 54%|█████▍    | 27/50 [04:14<03:34,  9.32s/it]"
     ]
    },
    {
     "name": "stdout",
     "output_type": "stream",
     "text": [
      "Best NDCG: 0.41872035576003064\n",
      "Current NDCG: 0.4130704371242715\n",
      "433.4441\n",
      "482.33975\n",
      "479.93915\n"
     ]
    },
    {
     "name": "stderr",
     "output_type": "stream",
     "text": [
      " 56%|█████▌    | 28/50 [04:23<03:25,  9.32s/it]"
     ]
    },
    {
     "name": "stdout",
     "output_type": "stream",
     "text": [
      "Best NDCG: 0.41872035576003064\n",
      "Current NDCG: 0.4178059544283289\n",
      "458.89465\n",
      "488.6268\n",
      "420.29822\n"
     ]
    },
    {
     "name": "stderr",
     "output_type": "stream",
     "text": [
      " 58%|█████▊    | 29/50 [04:32<03:15,  9.32s/it]"
     ]
    },
    {
     "name": "stdout",
     "output_type": "stream",
     "text": [
      "Best NDCG: 0.41872035576003064\n",
      "Current NDCG: 0.41089189397336523\n",
      "459.5349\n",
      "436.976\n",
      "442.9619\n"
     ]
    },
    {
     "name": "stderr",
     "output_type": "stream",
     "text": [
      " 60%|██████    | 30/50 [04:42<03:06,  9.32s/it]"
     ]
    },
    {
     "name": "stdout",
     "output_type": "stream",
     "text": [
      "Best NDCG: 0.41872035576003064\n",
      "Current NDCG: 0.41489744696114067\n",
      "412.03546\n",
      "472.16592\n",
      "493.31262\n"
     ]
    },
    {
     "name": "stderr",
     "output_type": "stream",
     "text": [
      " 62%|██████▏   | 31/50 [04:51<02:57,  9.33s/it]"
     ]
    },
    {
     "name": "stdout",
     "output_type": "stream",
     "text": [
      "Best NDCG: 0.41872035576003064\n",
      "Current NDCG: 0.41627544334913563\n",
      "482.59448\n",
      "461.1499\n",
      "473.14774\n"
     ]
    },
    {
     "name": "stderr",
     "output_type": "stream",
     "text": [
      " 64%|██████▍   | 32/50 [05:00<02:48,  9.33s/it]"
     ]
    },
    {
     "name": "stdout",
     "output_type": "stream",
     "text": [
      "Best NDCG: 0.41872035576003064\n",
      "Current NDCG: 0.41577254995261304\n",
      "448.96042\n",
      "460.09665\n",
      "398.16974\n"
     ]
    },
    {
     "name": "stderr",
     "output_type": "stream",
     "text": [
      " 66%|██████▌   | 33/50 [05:10<02:38,  9.34s/it]"
     ]
    },
    {
     "name": "stdout",
     "output_type": "stream",
     "text": [
      "Best NDCG: 0.41872035576003064\n",
      "Current NDCG: 0.41349353852889137\n",
      "497.5729\n",
      "480.16797\n",
      "464.068\n"
     ]
    },
    {
     "name": "stderr",
     "output_type": "stream",
     "text": [
      " 68%|██████▊   | 34/50 [05:19<02:29,  9.32s/it]"
     ]
    },
    {
     "name": "stdout",
     "output_type": "stream",
     "text": [
      "Best NDCG: 0.41872035576003064\n",
      "Current NDCG: 0.4138208675140373\n",
      "456.14737\n",
      "425.76715\n",
      "482.6697\n"
     ]
    },
    {
     "name": "stderr",
     "output_type": "stream",
     "text": [
      " 70%|███████   | 35/50 [05:28<02:20,  9.35s/it]"
     ]
    },
    {
     "name": "stdout",
     "output_type": "stream",
     "text": [
      "Best NDCG: 0.41872035576003064\n",
      "Current NDCG: 0.4156197304278576\n",
      "438.61133\n",
      "488.2476\n",
      "494.66318\n"
     ]
    },
    {
     "name": "stderr",
     "output_type": "stream",
     "text": [
      " 72%|███████▏  | 36/50 [05:38<02:10,  9.35s/it]"
     ]
    },
    {
     "name": "stdout",
     "output_type": "stream",
     "text": [
      "Best NDCG: 0.41872035576003064\n",
      "Current NDCG: 0.41570207822830424\n",
      "387.51178\n",
      "490.33212\n",
      "474.3436\n"
     ]
    },
    {
     "name": "stderr",
     "output_type": "stream",
     "text": [
      " 74%|███████▍  | 37/50 [05:47<02:01,  9.34s/it]"
     ]
    },
    {
     "name": "stdout",
     "output_type": "stream",
     "text": [
      "Best NDCG: 0.41872035576003064\n",
      "Current NDCG: 0.4159786611950237\n",
      "490.8797\n",
      "439.35056\n",
      "509.65662\n"
     ]
    },
    {
     "name": "stderr",
     "output_type": "stream",
     "text": [
      " 76%|███████▌  | 38/50 [05:56<01:52,  9.33s/it]"
     ]
    },
    {
     "name": "stdout",
     "output_type": "stream",
     "text": [
      "Best NDCG: 0.41872035576003064\n",
      "Current NDCG: 0.41305832058348496\n",
      "459.40982\n",
      "465.01038\n",
      "533.0222\n"
     ]
    },
    {
     "name": "stderr",
     "output_type": "stream",
     "text": [
      " 78%|███████▊  | 39/50 [06:06<01:42,  9.33s/it]"
     ]
    },
    {
     "name": "stdout",
     "output_type": "stream",
     "text": [
      "Best NDCG: 0.41872035576003064\n",
      "Current NDCG: 0.41061405368707166\n",
      "482.4204\n",
      "468.17993\n",
      "462.17258\n"
     ]
    },
    {
     "name": "stderr",
     "output_type": "stream",
     "text": [
      " 80%|████████  | 40/50 [06:15<01:33,  9.33s/it]"
     ]
    },
    {
     "name": "stdout",
     "output_type": "stream",
     "text": [
      "Best NDCG: 0.41872035576003064\n",
      "Current NDCG: 0.414121057225444\n",
      "433.1036\n",
      "507.91196\n",
      "419.19348\n"
     ]
    },
    {
     "name": "stderr",
     "output_type": "stream",
     "text": [
      " 82%|████████▏ | 41/50 [06:24<01:23,  9.32s/it]"
     ]
    },
    {
     "name": "stdout",
     "output_type": "stream",
     "text": [
      "Best NDCG: 0.41872035576003064\n",
      "Current NDCG: 0.41285008671857365\n",
      "512.4284\n",
      "499.11304\n",
      "503.1141\n"
     ]
    },
    {
     "name": "stderr",
     "output_type": "stream",
     "text": [
      " 84%|████████▍ | 42/50 [06:34<01:14,  9.31s/it]"
     ]
    },
    {
     "name": "stdout",
     "output_type": "stream",
     "text": [
      "Best NDCG: 0.41872035576003064\n",
      "Current NDCG: 0.4065111420818841\n",
      "471.59485\n",
      "458.30597\n",
      "471.25266\n"
     ]
    },
    {
     "name": "stderr",
     "output_type": "stream",
     "text": [
      " 86%|████████▌ | 43/50 [06:43<01:05,  9.32s/it]"
     ]
    },
    {
     "name": "stdout",
     "output_type": "stream",
     "text": [
      "Best NDCG: 0.41872035576003064\n",
      "Current NDCG: 0.4108677823838324\n",
      "444.7787\n",
      "466.75778\n",
      "459.08234\n"
     ]
    },
    {
     "name": "stderr",
     "output_type": "stream",
     "text": [
      " 88%|████████▊ | 44/50 [06:52<00:55,  9.33s/it]"
     ]
    },
    {
     "name": "stdout",
     "output_type": "stream",
     "text": [
      "Best NDCG: 0.41872035576003064\n",
      "Current NDCG: 0.41149944519272946\n",
      "454.30627\n",
      "473.861\n",
      "448.36298\n"
     ]
    },
    {
     "name": "stderr",
     "output_type": "stream",
     "text": [
      " 90%|█████████ | 45/50 [07:02<00:46,  9.33s/it]"
     ]
    },
    {
     "name": "stdout",
     "output_type": "stream",
     "text": [
      "Best NDCG: 0.41872035576003064\n",
      "Current NDCG: 0.41508213514194486\n",
      "490.8526\n",
      "473.63467\n",
      "467.9655\n"
     ]
    },
    {
     "name": "stderr",
     "output_type": "stream",
     "text": [
      " 92%|█████████▏| 46/50 [07:11<00:37,  9.33s/it]"
     ]
    },
    {
     "name": "stdout",
     "output_type": "stream",
     "text": [
      "Best NDCG: 0.41872035576003064\n",
      "Current NDCG: 0.4136204656274582\n",
      "502.7781\n",
      "444.20706\n",
      "510.63327\n"
     ]
    },
    {
     "name": "stderr",
     "output_type": "stream",
     "text": [
      " 94%|█████████▍| 47/50 [07:20<00:27,  9.33s/it]"
     ]
    },
    {
     "name": "stdout",
     "output_type": "stream",
     "text": [
      "Best NDCG: 0.41872035576003064\n",
      "Current NDCG: 0.4135036943605552\n",
      "450.47943\n",
      "409.8124\n",
      "514.3021\n"
     ]
    },
    {
     "name": "stderr",
     "output_type": "stream",
     "text": [
      " 96%|█████████▌| 48/50 [07:30<00:18,  9.33s/it]"
     ]
    },
    {
     "name": "stdout",
     "output_type": "stream",
     "text": [
      "Best NDCG: 0.41872035576003064\n",
      "Current NDCG: 0.4137055337919539\n",
      "451.71307\n",
      "401.311\n",
      "445.27063\n"
     ]
    },
    {
     "name": "stderr",
     "output_type": "stream",
     "text": [
      " 98%|█████████▊| 49/50 [07:39<00:09,  9.33s/it]"
     ]
    },
    {
     "name": "stdout",
     "output_type": "stream",
     "text": [
      "Best NDCG: 0.41872035576003064\n",
      "Current NDCG: 0.4154281961741961\n",
      "445.40555\n",
      "472.95425\n",
      "454.44913\n"
     ]
    },
    {
     "name": "stderr",
     "output_type": "stream",
     "text": [
      "100%|██████████| 50/50 [07:48<00:00,  9.38s/it]"
     ]
    },
    {
     "name": "stdout",
     "output_type": "stream",
     "text": [
      "Best NDCG: 0.41872035576003064\n",
      "Current NDCG: 0.41698482994756886\n",
      "lr  0.001\n",
      "Sequential(\n",
      "  (0): Linear(in_features=20108, out_features=600, bias=True)\n",
      "  (1): Tanh()\n",
      "  (2): Linear(in_features=600, out_features=400, bias=True)\n",
      ")\n"
     ]
    },
    {
     "name": "stderr",
     "output_type": "stream",
     "text": [
      "\n",
      "  0%|          | 0/50 [00:00<?, ?it/s]"
     ]
    },
    {
     "name": "stdout",
     "output_type": "stream",
     "text": [
      "Sequential(\n",
      "  (0): Linear(in_features=200, out_features=600, bias=True)\n",
      "  (1): Tanh()\n",
      "  (2): Linear(in_features=600, out_features=20108, bias=True)\n",
      ")\n",
      "782.51886\n",
      "480.2633\n",
      "432.68842\n"
     ]
    },
    {
     "name": "stderr",
     "output_type": "stream",
     "text": [
      "  2%|▏         | 1/50 [00:09<07:51,  9.62s/it]"
     ]
    },
    {
     "name": "stdout",
     "output_type": "stream",
     "text": [
      "Best NDCG: 0.38662161600485473\n",
      "Current NDCG: 0.38662161600485473\n",
      "495.66968\n",
      "499.05185\n",
      "513.42163\n"
     ]
    },
    {
     "name": "stderr",
     "output_type": "stream",
     "text": [
      "  4%|▍         | 2/50 [00:19<07:43,  9.65s/it]"
     ]
    },
    {
     "name": "stdout",
     "output_type": "stream",
     "text": [
      "Best NDCG: 0.41432420893457017\n",
      "Current NDCG: 0.41432420893457017\n",
      "471.09595\n",
      "461.53983\n",
      "479.60965\n"
     ]
    },
    {
     "name": "stderr",
     "output_type": "stream",
     "text": [
      "  6%|▌         | 3/50 [00:29<07:34,  9.67s/it]"
     ]
    },
    {
     "name": "stdout",
     "output_type": "stream",
     "text": [
      "Best NDCG: 0.42230070695795247\n",
      "Current NDCG: 0.42230070695795247\n",
      "464.45874\n",
      "490.27377\n",
      "472.27243\n"
     ]
    },
    {
     "name": "stderr",
     "output_type": "stream",
     "text": [
      "  8%|▊         | 4/50 [00:38<07:26,  9.70s/it]"
     ]
    },
    {
     "name": "stdout",
     "output_type": "stream",
     "text": [
      "Best NDCG: 0.4257661677582814\n",
      "Current NDCG: 0.4257661677582814\n",
      "469.2689\n",
      "496.73697\n",
      "407.6685\n"
     ]
    },
    {
     "name": "stderr",
     "output_type": "stream",
     "text": [
      " 10%|█         | 5/50 [00:48<07:17,  9.72s/it]"
     ]
    },
    {
     "name": "stdout",
     "output_type": "stream",
     "text": [
      "Best NDCG: 0.427807123093632\n",
      "Current NDCG: 0.427807123093632\n",
      "420.26855\n",
      "502.60068\n",
      "468.5354\n"
     ]
    },
    {
     "name": "stderr",
     "output_type": "stream",
     "text": [
      " 12%|█▏        | 6/50 [00:58<07:08,  9.73s/it]"
     ]
    },
    {
     "name": "stdout",
     "output_type": "stream",
     "text": [
      "Best NDCG: 0.42874252566664306\n",
      "Current NDCG: 0.42874252566664306\n",
      "518.1942\n",
      "417.0701\n",
      "445.0361\n"
     ]
    },
    {
     "name": "stderr",
     "output_type": "stream",
     "text": [
      " 14%|█▍        | 7/50 [01:08<06:57,  9.72s/it]"
     ]
    },
    {
     "name": "stdout",
     "output_type": "stream",
     "text": [
      "Best NDCG: 0.4291353194093543\n",
      "Current NDCG: 0.4291353194093543\n",
      "457.75784\n",
      "501.37955\n",
      "396.6067\n"
     ]
    },
    {
     "name": "stderr",
     "output_type": "stream",
     "text": [
      " 16%|█▌        | 8/50 [01:17<06:43,  9.61s/it]"
     ]
    },
    {
     "name": "stdout",
     "output_type": "stream",
     "text": [
      "Best NDCG: 0.4291353194093543\n",
      "Current NDCG: 0.42869396804125026\n",
      "409.67407\n",
      "431.3434\n",
      "449.9202\n"
     ]
    },
    {
     "name": "stderr",
     "output_type": "stream",
     "text": [
      " 18%|█▊        | 9/50 [01:26<06:30,  9.53s/it]"
     ]
    },
    {
     "name": "stdout",
     "output_type": "stream",
     "text": [
      "Best NDCG: 0.4291353194093543\n",
      "Current NDCG: 0.42832434879584125\n",
      "441.21844\n",
      "393.03815\n",
      "463.2394\n"
     ]
    },
    {
     "name": "stderr",
     "output_type": "stream",
     "text": [
      " 20%|██        | 10/50 [01:36<06:18,  9.47s/it]"
     ]
    },
    {
     "name": "stdout",
     "output_type": "stream",
     "text": [
      "Best NDCG: 0.4291353194093543\n",
      "Current NDCG: 0.4287883753778909\n",
      "455.50284\n",
      "480.55414\n",
      "473.80844\n"
     ]
    },
    {
     "name": "stderr",
     "output_type": "stream",
     "text": [
      " 22%|██▏       | 11/50 [01:45<06:07,  9.42s/it]"
     ]
    },
    {
     "name": "stdout",
     "output_type": "stream",
     "text": [
      "Best NDCG: 0.4291353194093543\n",
      "Current NDCG: 0.4281735316478447\n",
      "477.74243\n",
      "444.563\n",
      "460.47253\n"
     ]
    },
    {
     "name": "stderr",
     "output_type": "stream",
     "text": [
      " 24%|██▍       | 12/50 [01:54<05:56,  9.39s/it]"
     ]
    },
    {
     "name": "stdout",
     "output_type": "stream",
     "text": [
      "Best NDCG: 0.4291353194093543\n",
      "Current NDCG: 0.4283900885164492\n",
      "434.61337\n",
      "451.51074\n",
      "408.9474\n"
     ]
    },
    {
     "name": "stderr",
     "output_type": "stream",
     "text": [
      " 26%|██▌       | 13/50 [02:04<05:46,  9.37s/it]"
     ]
    },
    {
     "name": "stdout",
     "output_type": "stream",
     "text": [
      "Best NDCG: 0.4291353194093543\n",
      "Current NDCG: 0.4283407180831401\n",
      "461.85413\n",
      "464.5484\n",
      "492.98645\n"
     ]
    },
    {
     "name": "stderr",
     "output_type": "stream",
     "text": [
      " 28%|██▊       | 14/50 [02:13<05:36,  9.36s/it]"
     ]
    },
    {
     "name": "stdout",
     "output_type": "stream",
     "text": [
      "Best NDCG: 0.4291353194093543\n",
      "Current NDCG: 0.4285480836072645\n",
      "490.98718\n",
      "480.79272\n",
      "393.06076\n"
     ]
    },
    {
     "name": "stderr",
     "output_type": "stream",
     "text": [
      " 30%|███       | 15/50 [02:22<05:27,  9.34s/it]"
     ]
    },
    {
     "name": "stdout",
     "output_type": "stream",
     "text": [
      "Best NDCG: 0.4291353194093543\n",
      "Current NDCG: 0.42827806028691684\n",
      "386.82907\n",
      "414.00092\n",
      "446.0724\n"
     ]
    },
    {
     "name": "stderr",
     "output_type": "stream",
     "text": [
      " 32%|███▏      | 16/50 [02:31<05:17,  9.34s/it]"
     ]
    },
    {
     "name": "stdout",
     "output_type": "stream",
     "text": [
      "Best NDCG: 0.4291353194093543\n",
      "Current NDCG: 0.42891751721232085\n",
      "392.18137\n",
      "482.71326\n",
      "458.2764\n"
     ]
    },
    {
     "name": "stderr",
     "output_type": "stream",
     "text": [
      " 34%|███▍      | 17/50 [02:41<05:07,  9.33s/it]"
     ]
    },
    {
     "name": "stdout",
     "output_type": "stream",
     "text": [
      "Best NDCG: 0.4291353194093543\n",
      "Current NDCG: 0.4279263777506431\n",
      "448.27243\n",
      "400.445\n",
      "489.0945\n"
     ]
    },
    {
     "name": "stderr",
     "output_type": "stream",
     "text": [
      " 36%|███▌      | 18/50 [02:50<05:01,  9.41s/it]"
     ]
    },
    {
     "name": "stdout",
     "output_type": "stream",
     "text": [
      "Best NDCG: 0.4294112707072465\n",
      "Current NDCG: 0.4294112707072465\n",
      "433.2507\n",
      "510.789\n",
      "475.32346\n"
     ]
    },
    {
     "name": "stderr",
     "output_type": "stream",
     "text": [
      " 38%|███▊      | 19/50 [03:00<04:50,  9.38s/it]"
     ]
    },
    {
     "name": "stdout",
     "output_type": "stream",
     "text": [
      "Best NDCG: 0.4294112707072465\n",
      "Current NDCG: 0.4294023707461469\n",
      "483.1986\n",
      "511.99338\n",
      "481.6038\n"
     ]
    },
    {
     "name": "stderr",
     "output_type": "stream",
     "text": [
      " 40%|████      | 20/50 [03:09<04:43,  9.44s/it]"
     ]
    },
    {
     "name": "stdout",
     "output_type": "stream",
     "text": [
      "Best NDCG: 0.42990014162171647\n",
      "Current NDCG: 0.42990014162171647\n",
      "426.56573\n",
      "509.5651\n",
      "456.31595\n"
     ]
    },
    {
     "name": "stderr",
     "output_type": "stream",
     "text": [
      " 42%|████▏     | 21/50 [03:19<04:32,  9.41s/it]"
     ]
    },
    {
     "name": "stdout",
     "output_type": "stream",
     "text": [
      "Best NDCG: 0.42990014162171647\n",
      "Current NDCG: 0.4296106442684806\n",
      "476.3677\n",
      "479.4097\n",
      "471.11237\n"
     ]
    },
    {
     "name": "stderr",
     "output_type": "stream",
     "text": [
      " 44%|████▍     | 22/50 [03:28<04:22,  9.39s/it]"
     ]
    },
    {
     "name": "stdout",
     "output_type": "stream",
     "text": [
      "Best NDCG: 0.42990014162171647\n",
      "Current NDCG: 0.42978173718180823\n",
      "440.0625\n",
      "489.23148\n",
      "472.30777\n"
     ]
    },
    {
     "name": "stderr",
     "output_type": "stream",
     "text": [
      " 46%|████▌     | 23/50 [03:37<04:12,  9.37s/it]"
     ]
    },
    {
     "name": "stdout",
     "output_type": "stream",
     "text": [
      "Best NDCG: 0.42990014162171647\n",
      "Current NDCG: 0.42973217204052355\n",
      "440.46838\n",
      "495.0654\n",
      "405.1298\n"
     ]
    },
    {
     "name": "stderr",
     "output_type": "stream",
     "text": [
      " 48%|████▊     | 24/50 [03:47<04:03,  9.35s/it]"
     ]
    },
    {
     "name": "stdout",
     "output_type": "stream",
     "text": [
      "Best NDCG: 0.42990014162171647\n",
      "Current NDCG: 0.4298220175015862\n",
      "496.16324\n",
      "445.12628\n",
      "479.84546\n"
     ]
    },
    {
     "name": "stderr",
     "output_type": "stream",
     "text": [
      " 50%|█████     | 25/50 [03:56<03:55,  9.44s/it]"
     ]
    },
    {
     "name": "stdout",
     "output_type": "stream",
     "text": [
      "Best NDCG: 0.43059959279784826\n",
      "Current NDCG: 0.43059959279784826\n",
      "414.30573\n",
      "452.61066\n",
      "492.84012\n"
     ]
    },
    {
     "name": "stderr",
     "output_type": "stream",
     "text": [
      " 52%|█████▏    | 26/50 [04:06<03:45,  9.41s/it]"
     ]
    },
    {
     "name": "stdout",
     "output_type": "stream",
     "text": [
      "Best NDCG: 0.43059959279784826\n",
      "Current NDCG: 0.43025935112737945\n",
      "425.48373\n",
      "484.18808\n",
      "456.04733\n"
     ]
    },
    {
     "name": "stderr",
     "output_type": "stream",
     "text": [
      " 54%|█████▍    | 27/50 [04:15<03:35,  9.36s/it]"
     ]
    },
    {
     "name": "stdout",
     "output_type": "stream",
     "text": [
      "Best NDCG: 0.43059959279784826\n",
      "Current NDCG: 0.4302213389958202\n",
      "445.21793\n",
      "414.53586\n",
      "415.1827\n"
     ]
    },
    {
     "name": "stderr",
     "output_type": "stream",
     "text": [
      " 56%|█████▌    | 28/50 [04:24<03:25,  9.34s/it]"
     ]
    },
    {
     "name": "stdout",
     "output_type": "stream",
     "text": [
      "Best NDCG: 0.43059959279784826\n",
      "Current NDCG: 0.43055656863256564\n",
      "478.9595\n",
      "468.5906\n",
      "474.03937\n"
     ]
    },
    {
     "name": "stderr",
     "output_type": "stream",
     "text": [
      " 58%|█████▊    | 29/50 [04:33<03:15,  9.32s/it]"
     ]
    },
    {
     "name": "stdout",
     "output_type": "stream",
     "text": [
      "Best NDCG: 0.43059959279784826\n",
      "Current NDCG: 0.4305775896581452\n",
      "479.62234\n",
      "469.8659\n",
      "510.51575\n"
     ]
    },
    {
     "name": "stderr",
     "output_type": "stream",
     "text": [
      " 60%|██████    | 30/50 [04:43<03:06,  9.31s/it]"
     ]
    },
    {
     "name": "stdout",
     "output_type": "stream",
     "text": [
      "Best NDCG: 0.43059959279784826\n",
      "Current NDCG: 0.4305214091290254\n",
      "435.09717\n",
      "459.45026\n",
      "454.5471\n"
     ]
    },
    {
     "name": "stderr",
     "output_type": "stream",
     "text": [
      " 62%|██████▏   | 31/50 [04:52<02:58,  9.41s/it]"
     ]
    },
    {
     "name": "stdout",
     "output_type": "stream",
     "text": [
      "Best NDCG: 0.4307957031462108\n",
      "Current NDCG: 0.4307957031462108\n",
      "450.75214\n",
      "518.9749\n",
      "428.47934\n"
     ]
    },
    {
     "name": "stderr",
     "output_type": "stream",
     "text": [
      " 64%|██████▍   | 32/50 [05:02<02:49,  9.40s/it]"
     ]
    },
    {
     "name": "stdout",
     "output_type": "stream",
     "text": [
      "Best NDCG: 0.4307957031462108\n",
      "Current NDCG: 0.430677440124794\n",
      "517.1311\n",
      "478.64035\n",
      "490.82642\n"
     ]
    },
    {
     "name": "stderr",
     "output_type": "stream",
     "text": [
      " 66%|██████▌   | 33/50 [05:11<02:39,  9.38s/it]"
     ]
    },
    {
     "name": "stdout",
     "output_type": "stream",
     "text": [
      "Best NDCG: 0.4307957031462108\n",
      "Current NDCG: 0.430219897251417\n",
      "480.67514\n",
      "459.42078\n",
      "456.97345\n"
     ]
    },
    {
     "name": "stderr",
     "output_type": "stream",
     "text": [
      " 68%|██████▊   | 34/50 [05:20<02:29,  9.36s/it]"
     ]
    },
    {
     "name": "stdout",
     "output_type": "stream",
     "text": [
      "Best NDCG: 0.4307957031462108\n",
      "Current NDCG: 0.4302748190228962\n",
      "488.89185\n",
      "525.93915\n",
      "455.1071\n"
     ]
    },
    {
     "name": "stderr",
     "output_type": "stream",
     "text": [
      " 70%|███████   | 35/50 [05:30<02:20,  9.36s/it]"
     ]
    },
    {
     "name": "stdout",
     "output_type": "stream",
     "text": [
      "Best NDCG: 0.4307957031462108\n",
      "Current NDCG: 0.4304652450016016\n",
      "435.70337\n",
      "488.76898\n",
      "472.30194\n"
     ]
    },
    {
     "name": "stderr",
     "output_type": "stream",
     "text": [
      " 72%|███████▏  | 36/50 [05:39<02:10,  9.34s/it]"
     ]
    },
    {
     "name": "stdout",
     "output_type": "stream",
     "text": [
      "Best NDCG: 0.4307957031462108\n",
      "Current NDCG: 0.43072722249390133\n",
      "425.31445\n",
      "431.94498\n",
      "432.32446\n"
     ]
    },
    {
     "name": "stderr",
     "output_type": "stream",
     "text": [
      " 74%|███████▍  | 37/50 [05:49<02:02,  9.43s/it]"
     ]
    },
    {
     "name": "stdout",
     "output_type": "stream",
     "text": [
      "Best NDCG: 0.43092725119860914\n",
      "Current NDCG: 0.43092725119860914\n",
      "450.60544\n",
      "427.26868\n",
      "480.03406\n"
     ]
    },
    {
     "name": "stderr",
     "output_type": "stream",
     "text": [
      " 76%|███████▌  | 38/50 [05:58<01:52,  9.41s/it]"
     ]
    },
    {
     "name": "stdout",
     "output_type": "stream",
     "text": [
      "Best NDCG: 0.43092725119860914\n",
      "Current NDCG: 0.4306447574509004\n",
      "463.5559\n",
      "433.89197\n",
      "440.63892\n"
     ]
    },
    {
     "name": "stderr",
     "output_type": "stream",
     "text": [
      " 78%|███████▊  | 39/50 [06:08<01:44,  9.48s/it]"
     ]
    },
    {
     "name": "stdout",
     "output_type": "stream",
     "text": [
      "Best NDCG: 0.4311333062229762\n",
      "Current NDCG: 0.4311333062229762\n",
      "459.4418\n",
      "382.93707\n",
      "445.4471\n"
     ]
    },
    {
     "name": "stderr",
     "output_type": "stream",
     "text": [
      " 80%|████████  | 40/50 [06:17<01:34,  9.46s/it]"
     ]
    },
    {
     "name": "stdout",
     "output_type": "stream",
     "text": [
      "Best NDCG: 0.4311333062229762\n",
      "Current NDCG: 0.4308529563782291\n",
      "511.97003\n",
      "512.48926\n",
      "434.3785\n"
     ]
    },
    {
     "name": "stderr",
     "output_type": "stream",
     "text": [
      " 82%|████████▏ | 41/50 [06:27<01:25,  9.49s/it]"
     ]
    },
    {
     "name": "stdout",
     "output_type": "stream",
     "text": [
      "Best NDCG: 0.4311660437919053\n",
      "Current NDCG: 0.4311660437919053\n",
      "448.1055\n",
      "487.91583\n",
      "420.30835\n"
     ]
    },
    {
     "name": "stderr",
     "output_type": "stream",
     "text": [
      " 84%|████████▍ | 42/50 [06:36<01:15,  9.46s/it]"
     ]
    },
    {
     "name": "stdout",
     "output_type": "stream",
     "text": [
      "Best NDCG: 0.4311660437919053\n",
      "Current NDCG: 0.43105280982639926\n",
      "475.79468\n",
      "482.73395\n",
      "484.52417\n"
     ]
    },
    {
     "name": "stderr",
     "output_type": "stream",
     "text": [
      " 86%|████████▌ | 43/50 [06:45<01:05,  9.42s/it]"
     ]
    },
    {
     "name": "stdout",
     "output_type": "stream",
     "text": [
      "Best NDCG: 0.4311660437919053\n",
      "Current NDCG: 0.4308543732761187\n",
      "432.15128\n",
      "437.39685\n",
      "508.4714\n"
     ]
    },
    {
     "name": "stderr",
     "output_type": "stream",
     "text": [
      " 88%|████████▊ | 44/50 [06:55<00:56,  9.47s/it]"
     ]
    },
    {
     "name": "stdout",
     "output_type": "stream",
     "text": [
      "Best NDCG: 0.4312483532820965\n",
      "Current NDCG: 0.4312483532820965\n",
      "423.16635\n",
      "459.33444\n",
      "410.03006\n"
     ]
    },
    {
     "name": "stderr",
     "output_type": "stream",
     "text": [
      " 90%|█████████ | 45/50 [07:04<00:47,  9.44s/it]"
     ]
    },
    {
     "name": "stdout",
     "output_type": "stream",
     "text": [
      "Best NDCG: 0.4312483532820965\n",
      "Current NDCG: 0.4312466431884652\n",
      "469.0938\n",
      "483.33835\n",
      "474.1883\n"
     ]
    },
    {
     "name": "stderr",
     "output_type": "stream",
     "text": [
      " 92%|█████████▏| 46/50 [07:14<00:38,  9.50s/it]"
     ]
    },
    {
     "name": "stdout",
     "output_type": "stream",
     "text": [
      "Best NDCG: 0.43178609195001244\n",
      "Current NDCG: 0.43178609195001244\n",
      "454.81494\n",
      "415.48566\n",
      "439.30804\n"
     ]
    },
    {
     "name": "stderr",
     "output_type": "stream",
     "text": [
      " 94%|█████████▍| 47/50 [07:23<00:28,  9.46s/it]"
     ]
    },
    {
     "name": "stdout",
     "output_type": "stream",
     "text": [
      "Best NDCG: 0.43178609195001244\n",
      "Current NDCG: 0.43168689745150896\n",
      "463.6924\n",
      "459.8599\n",
      "412.23\n"
     ]
    },
    {
     "name": "stderr",
     "output_type": "stream",
     "text": [
      " 96%|█████████▌| 48/50 [07:33<00:18,  9.42s/it]"
     ]
    },
    {
     "name": "stdout",
     "output_type": "stream",
     "text": [
      "Best NDCG: 0.43178609195001244\n",
      "Current NDCG: 0.4316650683023692\n",
      "448.9584\n",
      "533.5582\n",
      "469.78873\n"
     ]
    },
    {
     "name": "stderr",
     "output_type": "stream",
     "text": [
      " 98%|█████████▊| 49/50 [07:42<00:09,  9.40s/it]"
     ]
    },
    {
     "name": "stdout",
     "output_type": "stream",
     "text": [
      "Best NDCG: 0.43178609195001244\n",
      "Current NDCG: 0.43177935789024224\n",
      "444.88535\n",
      "416.44446\n",
      "416.04764\n"
     ]
    },
    {
     "name": "stderr",
     "output_type": "stream",
     "text": [
      "100%|██████████| 50/50 [07:51<00:00,  9.44s/it]"
     ]
    },
    {
     "name": "stdout",
     "output_type": "stream",
     "text": [
      "Best NDCG: 0.43178609195001244\n",
      "Current NDCG: 0.43140715952049724\n",
      "lr  0.0001\n",
      "Sequential(\n",
      "  (0): Linear(in_features=20108, out_features=600, bias=True)\n",
      "  (1): Tanh()\n",
      "  (2): Linear(in_features=600, out_features=400, bias=True)\n",
      ")\n"
     ]
    },
    {
     "name": "stderr",
     "output_type": "stream",
     "text": [
      "\n",
      "  0%|          | 0/50 [00:00<?, ?it/s]"
     ]
    },
    {
     "name": "stdout",
     "output_type": "stream",
     "text": [
      "Sequential(\n",
      "  (0): Linear(in_features=200, out_features=600, bias=True)\n",
      "  (1): Tanh()\n",
      "  (2): Linear(in_features=600, out_features=20108, bias=True)\n",
      ")\n",
      "827.8938\n",
      "590.48456\n",
      "534.3836\n"
     ]
    },
    {
     "name": "stderr",
     "output_type": "stream",
     "text": [
      "  2%|▏         | 1/50 [00:09<07:49,  9.57s/it]"
     ]
    },
    {
     "name": "stdout",
     "output_type": "stream",
     "text": [
      "Best NDCG: 0.22169994789407302\n",
      "Current NDCG: 0.22169994789407302\n",
      "573.11334\n",
      "484.31256\n",
      "602.4589\n"
     ]
    },
    {
     "name": "stderr",
     "output_type": "stream",
     "text": [
      "  4%|▍         | 2/50 [00:19<07:42,  9.63s/it]"
     ]
    },
    {
     "name": "stdout",
     "output_type": "stream",
     "text": [
      "Best NDCG: 0.27096320488697156\n",
      "Current NDCG: 0.27096320488697156\n",
      "531.43774\n",
      "461.91806\n",
      "489.44623\n"
     ]
    },
    {
     "name": "stderr",
     "output_type": "stream",
     "text": [
      "  6%|▌         | 3/50 [00:29<07:33,  9.65s/it]"
     ]
    },
    {
     "name": "stdout",
     "output_type": "stream",
     "text": [
      "Best NDCG: 0.315709639563538\n",
      "Current NDCG: 0.315709639563538\n",
      "565.1189\n",
      "457.64105\n",
      "530.9767\n"
     ]
    },
    {
     "name": "stderr",
     "output_type": "stream",
     "text": [
      "  8%|▊         | 4/50 [00:38<07:23,  9.65s/it]"
     ]
    },
    {
     "name": "stdout",
     "output_type": "stream",
     "text": [
      "Best NDCG: 0.34152550977874924\n",
      "Current NDCG: 0.34152550977874924\n",
      "472.39383\n",
      "492.26364\n",
      "496.96155\n"
     ]
    },
    {
     "name": "stderr",
     "output_type": "stream",
     "text": [
      " 10%|█         | 5/50 [00:48<07:14,  9.66s/it]"
     ]
    },
    {
     "name": "stdout",
     "output_type": "stream",
     "text": [
      "Best NDCG: 0.35767958488767554\n",
      "Current NDCG: 0.35767958488767554\n",
      "509.6482\n",
      "542.57837\n",
      "497.9414\n"
     ]
    },
    {
     "name": "stderr",
     "output_type": "stream",
     "text": [
      " 12%|█▏        | 6/50 [00:58<07:05,  9.67s/it]"
     ]
    },
    {
     "name": "stdout",
     "output_type": "stream",
     "text": [
      "Best NDCG: 0.3688174430879954\n",
      "Current NDCG: 0.3688174430879954\n",
      "545.7222\n",
      "473.49463\n",
      "492.88116\n"
     ]
    },
    {
     "name": "stderr",
     "output_type": "stream",
     "text": [
      " 14%|█▍        | 7/50 [01:07<06:56,  9.69s/it]"
     ]
    },
    {
     "name": "stdout",
     "output_type": "stream",
     "text": [
      "Best NDCG: 0.37808103625944234\n",
      "Current NDCG: 0.37808103625944234\n",
      "479.60303\n",
      "559.1282\n",
      "448.22797\n"
     ]
    },
    {
     "name": "stderr",
     "output_type": "stream",
     "text": [
      " 16%|█▌        | 8/50 [01:17<06:48,  9.72s/it]"
     ]
    },
    {
     "name": "stdout",
     "output_type": "stream",
     "text": [
      "Best NDCG: 0.3866231003484781\n",
      "Current NDCG: 0.3866231003484781\n",
      "447.8226\n",
      "475.1513\n",
      "472.25662\n"
     ]
    },
    {
     "name": "stderr",
     "output_type": "stream",
     "text": [
      " 18%|█▊        | 9/50 [01:27<06:38,  9.73s/it]"
     ]
    },
    {
     "name": "stdout",
     "output_type": "stream",
     "text": [
      "Best NDCG: 0.39343623283579543\n",
      "Current NDCG: 0.39343623283579543\n",
      "414.77426\n",
      "446.40207\n",
      "492.43396\n"
     ]
    },
    {
     "name": "stderr",
     "output_type": "stream",
     "text": [
      " 20%|██        | 10/50 [01:37<06:29,  9.74s/it]"
     ]
    },
    {
     "name": "stdout",
     "output_type": "stream",
     "text": [
      "Best NDCG: 0.398446554429592\n",
      "Current NDCG: 0.398446554429592\n",
      "515.6718\n",
      "454.57626\n",
      "479.76694\n"
     ]
    },
    {
     "name": "stderr",
     "output_type": "stream",
     "text": [
      " 22%|██▏       | 11/50 [01:46<06:19,  9.73s/it]"
     ]
    },
    {
     "name": "stdout",
     "output_type": "stream",
     "text": [
      "Best NDCG: 0.4024166541297719\n",
      "Current NDCG: 0.4024166541297719\n",
      "525.1745\n",
      "508.63312\n",
      "465.8779\n"
     ]
    },
    {
     "name": "stderr",
     "output_type": "stream",
     "text": [
      " 24%|██▍       | 12/50 [01:56<06:10,  9.74s/it]"
     ]
    },
    {
     "name": "stdout",
     "output_type": "stream",
     "text": [
      "Best NDCG: 0.405950311992509\n",
      "Current NDCG: 0.405950311992509\n",
      "562.7871\n",
      "481.19968\n",
      "479.96252\n"
     ]
    },
    {
     "name": "stderr",
     "output_type": "stream",
     "text": [
      " 26%|██▌       | 13/50 [02:06<06:00,  9.75s/it]"
     ]
    },
    {
     "name": "stdout",
     "output_type": "stream",
     "text": [
      "Best NDCG: 0.4086932720654274\n",
      "Current NDCG: 0.4086932720654274\n",
      "461.4553\n",
      "505.87653\n",
      "509.20984\n"
     ]
    },
    {
     "name": "stderr",
     "output_type": "stream",
     "text": [
      " 28%|██▊       | 14/50 [02:16<05:51,  9.77s/it]"
     ]
    },
    {
     "name": "stdout",
     "output_type": "stream",
     "text": [
      "Best NDCG: 0.4107007743023827\n",
      "Current NDCG: 0.4107007743023827\n",
      "585.6129\n",
      "468.3681\n",
      "474.55072\n"
     ]
    },
    {
     "name": "stderr",
     "output_type": "stream",
     "text": [
      " 30%|███       | 15/50 [02:25<05:42,  9.78s/it]"
     ]
    },
    {
     "name": "stdout",
     "output_type": "stream",
     "text": [
      "Best NDCG: 0.41273007658090494\n",
      "Current NDCG: 0.41273007658090494\n",
      "459.02444\n",
      "493.37457\n",
      "468.7492\n"
     ]
    },
    {
     "name": "stderr",
     "output_type": "stream",
     "text": [
      " 32%|███▏      | 16/50 [02:35<05:32,  9.77s/it]"
     ]
    },
    {
     "name": "stdout",
     "output_type": "stream",
     "text": [
      "Best NDCG: 0.41453761855886023\n",
      "Current NDCG: 0.41453761855886023\n",
      "432.12814\n",
      "472.82944\n",
      "501.38925\n"
     ]
    },
    {
     "name": "stderr",
     "output_type": "stream",
     "text": [
      " 34%|███▍      | 17/50 [02:45<05:21,  9.75s/it]"
     ]
    },
    {
     "name": "stdout",
     "output_type": "stream",
     "text": [
      "Best NDCG: 0.41611462962107415\n",
      "Current NDCG: 0.41611462962107415\n",
      "445.3868\n",
      "449.21317\n",
      "495.6188\n"
     ]
    },
    {
     "name": "stderr",
     "output_type": "stream",
     "text": [
      " 36%|███▌      | 18/50 [02:55<05:11,  9.74s/it]"
     ]
    },
    {
     "name": "stdout",
     "output_type": "stream",
     "text": [
      "Best NDCG: 0.41741226285991245\n",
      "Current NDCG: 0.41741226285991245\n",
      "474.54257\n",
      "478.85974\n",
      "457.47202\n"
     ]
    },
    {
     "name": "stderr",
     "output_type": "stream",
     "text": [
      " 38%|███▊      | 19/50 [03:04<05:01,  9.74s/it]"
     ]
    },
    {
     "name": "stdout",
     "output_type": "stream",
     "text": [
      "Best NDCG: 0.4179302063695628\n",
      "Current NDCG: 0.4179302063695628\n",
      "473.70877\n",
      "434.7447\n",
      "497.02945\n"
     ]
    },
    {
     "name": "stderr",
     "output_type": "stream",
     "text": [
      " 40%|████      | 20/50 [03:14<04:52,  9.74s/it]"
     ]
    },
    {
     "name": "stdout",
     "output_type": "stream",
     "text": [
      "Best NDCG: 0.41948377929258157\n",
      "Current NDCG: 0.41948377929258157\n",
      "458.9773\n",
      "483.5885\n",
      "471.24966\n"
     ]
    },
    {
     "name": "stderr",
     "output_type": "stream",
     "text": [
      " 42%|████▏     | 21/50 [03:24<04:42,  9.74s/it]"
     ]
    },
    {
     "name": "stdout",
     "output_type": "stream",
     "text": [
      "Best NDCG: 0.42045178158384217\n",
      "Current NDCG: 0.42045178158384217\n",
      "428.12485\n",
      "461.4407\n",
      "481.6281\n"
     ]
    },
    {
     "name": "stderr",
     "output_type": "stream",
     "text": [
      " 44%|████▍     | 22/50 [03:34<04:32,  9.75s/it]"
     ]
    },
    {
     "name": "stdout",
     "output_type": "stream",
     "text": [
      "Best NDCG: 0.4212411935547899\n",
      "Current NDCG: 0.4212411935547899\n",
      "525.90857\n",
      "512.5083\n",
      "489.93582\n"
     ]
    },
    {
     "name": "stderr",
     "output_type": "stream",
     "text": [
      " 46%|████▌     | 23/50 [03:43<04:21,  9.70s/it]"
     ]
    },
    {
     "name": "stdout",
     "output_type": "stream",
     "text": [
      "Best NDCG: 0.4219350089905927\n",
      "Current NDCG: 0.4219350089905927\n",
      "444.00983\n",
      "523.5572\n",
      "439.01273\n"
     ]
    },
    {
     "name": "stderr",
     "output_type": "stream",
     "text": [
      " 48%|████▊     | 24/50 [03:53<04:12,  9.71s/it]"
     ]
    },
    {
     "name": "stdout",
     "output_type": "stream",
     "text": [
      "Best NDCG: 0.42255992412886245\n",
      "Current NDCG: 0.42255992412886245\n",
      "497.55344\n",
      "497.66364\n",
      "439.73535\n"
     ]
    },
    {
     "name": "stderr",
     "output_type": "stream",
     "text": [
      " 50%|█████     | 25/50 [04:03<04:03,  9.72s/it]"
     ]
    },
    {
     "name": "stdout",
     "output_type": "stream",
     "text": [
      "Best NDCG: 0.42341567797737645\n",
      "Current NDCG: 0.42341567797737645\n",
      "443.46115\n",
      "450.0165\n",
      "479.62158\n"
     ]
    },
    {
     "name": "stderr",
     "output_type": "stream",
     "text": [
      " 52%|█████▏    | 26/50 [04:12<03:53,  9.72s/it]"
     ]
    },
    {
     "name": "stdout",
     "output_type": "stream",
     "text": [
      "Best NDCG: 0.4239056776070247\n",
      "Current NDCG: 0.4239056776070247\n",
      "490.47644\n",
      "412.3915\n",
      "429.32614\n"
     ]
    },
    {
     "name": "stderr",
     "output_type": "stream",
     "text": [
      " 54%|█████▍    | 27/50 [04:22<03:43,  9.73s/it]"
     ]
    },
    {
     "name": "stdout",
     "output_type": "stream",
     "text": [
      "Best NDCG: 0.42393937947542537\n",
      "Current NDCG: 0.42393937947542537\n",
      "438.2827\n",
      "491.7971\n",
      "471.76785\n"
     ]
    },
    {
     "name": "stderr",
     "output_type": "stream",
     "text": [
      " 56%|█████▌    | 28/50 [04:32<03:34,  9.74s/it]"
     ]
    },
    {
     "name": "stdout",
     "output_type": "stream",
     "text": [
      "Best NDCG: 0.4244668871100178\n",
      "Current NDCG: 0.4244668871100178\n",
      "475.41904\n",
      "426.25565\n",
      "452.70374\n"
     ]
    },
    {
     "name": "stderr",
     "output_type": "stream",
     "text": [
      " 58%|█████▊    | 29/50 [04:42<03:24,  9.74s/it]"
     ]
    },
    {
     "name": "stdout",
     "output_type": "stream",
     "text": [
      "Best NDCG: 0.42512221065736094\n",
      "Current NDCG: 0.42512221065736094\n",
      "507.4054\n",
      "436.80463\n",
      "404.27426\n"
     ]
    },
    {
     "name": "stderr",
     "output_type": "stream",
     "text": [
      " 60%|██████    | 30/50 [04:51<03:14,  9.74s/it]"
     ]
    },
    {
     "name": "stdout",
     "output_type": "stream",
     "text": [
      "Best NDCG: 0.42578881514039424\n",
      "Current NDCG: 0.42578881514039424\n",
      "412.39395\n",
      "448.1411\n",
      "420.6178\n"
     ]
    },
    {
     "name": "stderr",
     "output_type": "stream",
     "text": [
      " 62%|██████▏   | 31/50 [05:01<03:05,  9.74s/it]"
     ]
    },
    {
     "name": "stdout",
     "output_type": "stream",
     "text": [
      "Best NDCG: 0.42628701115684536\n",
      "Current NDCG: 0.42628701115684536\n",
      "500.69562\n",
      "503.62457\n",
      "445.94675\n"
     ]
    },
    {
     "name": "stderr",
     "output_type": "stream",
     "text": [
      " 64%|██████▍   | 32/50 [05:11<02:55,  9.76s/it]"
     ]
    },
    {
     "name": "stdout",
     "output_type": "stream",
     "text": [
      "Best NDCG: 0.4266343032202315\n",
      "Current NDCG: 0.4266343032202315\n",
      "419.99277\n",
      "425.90042\n",
      "451.46722\n"
     ]
    },
    {
     "name": "stderr",
     "output_type": "stream",
     "text": [
      " 66%|██████▌   | 33/50 [05:21<02:45,  9.75s/it]"
     ]
    },
    {
     "name": "stdout",
     "output_type": "stream",
     "text": [
      "Best NDCG: 0.42715423653481577\n",
      "Current NDCG: 0.42715423653481577\n",
      "431.70065\n",
      "439.8859\n",
      "545.81433\n"
     ]
    },
    {
     "name": "stderr",
     "output_type": "stream",
     "text": [
      " 68%|██████▊   | 34/50 [05:30<02:35,  9.73s/it]"
     ]
    },
    {
     "name": "stdout",
     "output_type": "stream",
     "text": [
      "Best NDCG: 0.42729456369165064\n",
      "Current NDCG: 0.42729456369165064\n",
      "522.1799\n",
      "450.32895\n",
      "527.28687\n"
     ]
    },
    {
     "name": "stderr",
     "output_type": "stream",
     "text": [
      " 70%|███████   | 35/50 [05:40<02:25,  9.73s/it]"
     ]
    },
    {
     "name": "stdout",
     "output_type": "stream",
     "text": [
      "Best NDCG: 0.4277152275892275\n",
      "Current NDCG: 0.4277152275892275\n",
      "454.60876\n",
      "435.59515\n",
      "465.4087\n"
     ]
    },
    {
     "name": "stderr",
     "output_type": "stream",
     "text": [
      " 72%|███████▏  | 36/50 [05:50<02:16,  9.73s/it]"
     ]
    },
    {
     "name": "stdout",
     "output_type": "stream",
     "text": [
      "Best NDCG: 0.42804974369158333\n",
      "Current NDCG: 0.42804974369158333\n",
      "497.06882\n",
      "510.586\n",
      "474.51837\n"
     ]
    },
    {
     "name": "stderr",
     "output_type": "stream",
     "text": [
      " 74%|███████▍  | 37/50 [05:59<02:05,  9.62s/it]"
     ]
    },
    {
     "name": "stdout",
     "output_type": "stream",
     "text": [
      "Best NDCG: 0.42804974369158333\n",
      "Current NDCG: 0.42803985327522187\n",
      "457.452\n",
      "496.57422\n",
      "506.747\n"
     ]
    },
    {
     "name": "stderr",
     "output_type": "stream",
     "text": [
      " 76%|███████▌  | 38/50 [06:09<01:55,  9.62s/it]"
     ]
    },
    {
     "name": "stdout",
     "output_type": "stream",
     "text": [
      "Best NDCG: 0.4282300945402134\n",
      "Current NDCG: 0.4282300945402134\n",
      "489.67657\n",
      "503.89124\n",
      "440.71716\n"
     ]
    },
    {
     "name": "stderr",
     "output_type": "stream",
     "text": [
      " 78%|███████▊  | 39/50 [06:19<01:46,  9.67s/it]"
     ]
    },
    {
     "name": "stdout",
     "output_type": "stream",
     "text": [
      "Best NDCG: 0.4286481585917104\n",
      "Current NDCG: 0.4286481585917104\n",
      "462.96063\n",
      "453.88333\n",
      "446.9413\n"
     ]
    },
    {
     "name": "stderr",
     "output_type": "stream",
     "text": [
      " 80%|████████  | 40/50 [06:28<01:36,  9.70s/it]"
     ]
    },
    {
     "name": "stdout",
     "output_type": "stream",
     "text": [
      "Best NDCG: 0.42888021924503084\n",
      "Current NDCG: 0.42888021924503084\n",
      "487.79688\n",
      "519.32477\n",
      "420.70908\n"
     ]
    },
    {
     "name": "stderr",
     "output_type": "stream",
     "text": [
      " 82%|████████▏ | 41/50 [06:38<01:26,  9.58s/it]"
     ]
    },
    {
     "name": "stdout",
     "output_type": "stream",
     "text": [
      "Best NDCG: 0.42888021924503084\n",
      "Current NDCG: 0.42872126054382714\n",
      "528.5571\n",
      "478.07965\n",
      "491.09323\n"
     ]
    },
    {
     "name": "stderr",
     "output_type": "stream",
     "text": [
      " 84%|████████▍ | 42/50 [06:47<01:16,  9.59s/it]"
     ]
    },
    {
     "name": "stdout",
     "output_type": "stream",
     "text": [
      "Best NDCG: 0.4291061563307388\n",
      "Current NDCG: 0.4291061563307388\n",
      "448.9629\n",
      "420.53308\n",
      "511.9563\n"
     ]
    },
    {
     "name": "stderr",
     "output_type": "stream",
     "text": [
      " 86%|████████▌ | 43/50 [06:57<01:06,  9.51s/it]"
     ]
    },
    {
     "name": "stdout",
     "output_type": "stream",
     "text": [
      "Best NDCG: 0.4291061563307388\n",
      "Current NDCG: 0.42900628592658957\n",
      "454.22455\n",
      "485.14368\n",
      "522.1248\n"
     ]
    },
    {
     "name": "stderr",
     "output_type": "stream",
     "text": [
      " 88%|████████▊ | 44/50 [07:06<00:57,  9.54s/it]"
     ]
    },
    {
     "name": "stdout",
     "output_type": "stream",
     "text": [
      "Best NDCG: 0.42922364692967546\n",
      "Current NDCG: 0.42922364692967546\n",
      "510.02554\n",
      "488.83942\n",
      "474.16266\n"
     ]
    },
    {
     "name": "stderr",
     "output_type": "stream",
     "text": [
      " 90%|█████████ | 45/50 [07:15<00:47,  9.46s/it]"
     ]
    },
    {
     "name": "stdout",
     "output_type": "stream",
     "text": [
      "Best NDCG: 0.42922364692967546\n",
      "Current NDCG: 0.42901505107762694\n",
      "531.31494\n",
      "424.42664\n",
      "446.86783\n"
     ]
    },
    {
     "name": "stderr",
     "output_type": "stream",
     "text": [
      " 92%|█████████▏| 46/50 [07:25<00:38,  9.51s/it]"
     ]
    },
    {
     "name": "stdout",
     "output_type": "stream",
     "text": [
      "Best NDCG: 0.4293140874079092\n",
      "Current NDCG: 0.4293140874079092\n",
      "502.33246\n",
      "435.3564\n",
      "478.65262\n"
     ]
    },
    {
     "name": "stderr",
     "output_type": "stream",
     "text": [
      " 94%|█████████▍| 47/50 [07:35<00:28,  9.65s/it]"
     ]
    },
    {
     "name": "stdout",
     "output_type": "stream",
     "text": [
      "Best NDCG: 0.4294888444232336\n",
      "Current NDCG: 0.4294888444232336\n",
      "482.9473\n",
      "427.95587\n",
      "448.59763\n"
     ]
    },
    {
     "name": "stderr",
     "output_type": "stream",
     "text": [
      " 96%|█████████▌| 48/50 [07:45<00:19,  9.64s/it]"
     ]
    },
    {
     "name": "stdout",
     "output_type": "stream",
     "text": [
      "Best NDCG: 0.4297082162678262\n",
      "Current NDCG: 0.4297082162678262\n",
      "435.4895\n",
      "418.33298\n",
      "521.2349\n"
     ]
    },
    {
     "name": "stderr",
     "output_type": "stream",
     "text": [
      " 98%|█████████▊| 49/50 [07:54<00:09,  9.55s/it]"
     ]
    },
    {
     "name": "stdout",
     "output_type": "stream",
     "text": [
      "Best NDCG: 0.4297082162678262\n",
      "Current NDCG: 0.4293932150163262\n",
      "504.02423\n",
      "381.1876\n",
      "517.6016\n"
     ]
    },
    {
     "name": "stderr",
     "output_type": "stream",
     "text": [
      "100%|██████████| 50/50 [08:03<00:00,  9.68s/it]"
     ]
    },
    {
     "name": "stdout",
     "output_type": "stream",
     "text": [
      "Best NDCG: 0.4298818419895272\n",
      "Current NDCG: 0.4298818419895272\n"
     ]
    },
    {
     "name": "stderr",
     "output_type": "stream",
     "text": [
      "\n"
     ]
    }
   ],
   "source": [
    "for lr in [0.01, 0.001, 0.0001]:\n",
    "    print('lr ', lr)\n",
    "    model = load_model('./models/best_model_MultiVAE_K_None_N_None_learnreverse_False_anneal_True.pt', 'cuda')\n",
    "    args.learning_rate = lr\n",
    "\n",
    "    for p in model.parameters():\n",
    "        p.requires_grad_(False)\n",
    "    model.eval()\n",
    "    fixed_decoder = model.decoder\n",
    "    del model\n",
    "\n",
    "    layers = [200, 600, dataset.n_items]\n",
    "\n",
    "    model = MultiVAE(layers, args=args)\n",
    "    model.decoder = fixed_decoder\n",
    "    model.to(device)\n",
    "    train_model(model, dataset, args)"
   ]
  },
  {
   "cell_type": "code",
   "execution_count": null,
   "metadata": {},
   "outputs": [],
   "source": []
  },
  {
   "cell_type": "code",
   "execution_count": null,
   "metadata": {},
   "outputs": [],
   "source": []
  },
  {
   "cell_type": "code",
   "execution_count": null,
   "metadata": {},
   "outputs": [],
   "source": []
  }
 ],
 "metadata": {
  "kernelspec": {
   "display_name": "Condatorch",
   "language": "python",
   "name": "condatorch"
  },
  "language_info": {
   "codemirror_mode": {
    "name": "ipython",
    "version": 3
   },
   "file_extension": ".py",
   "mimetype": "text/x-python",
   "name": "python",
   "nbconvert_exporter": "python",
   "pygments_lexer": "ipython3",
   "version": "3.7.6"
  }
 },
 "nbformat": 4,
 "nbformat_minor": 4
}
